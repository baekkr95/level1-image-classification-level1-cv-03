{
 "cells": [
  {
   "cell_type": "markdown",
   "metadata": {},
   "source": [
    "## Multi Label(Head, Branch) Classifier\n",
    "- 하나의 Convolution 모델에서 3개의 FC Layer 브랜치를 만들어보자"
   ]
  },
  {
   "cell_type": "code",
   "execution_count": 1,
   "metadata": {},
   "outputs": [
    {
     "name": "stdout",
     "output_type": "stream",
     "text": [
      "cuda\n"
     ]
    }
   ],
   "source": [
    "import os\n",
    "import pandas as pd\n",
    "from PIL import Image\n",
    "import matplotlib.pyplot as plt \n",
    "\n",
    "import torch\n",
    "import torch.nn as nn\n",
    "import torchvision\n",
    "import torch.nn.functional as F\n",
    "from torch.utils.data import Dataset, DataLoader\n",
    "from torchvision import transforms\n",
    "\n",
    "device = torch.device('cuda' if torch.cuda.is_available() else 'cpu')\n",
    "print(device)\n"
   ]
  },
  {
   "cell_type": "code",
   "execution_count": 2,
   "metadata": {},
   "outputs": [],
   "source": [
    "# Custom Model Template\n",
    "class Res50(nn.Module):\n",
    "    def __init__(self, num_classes):\n",
    "        super().__init__()\n",
    "        \n",
    "        \"\"\"\n",
    "        1. 위와 같이 생성자의 parameter 에 num_claases 를 포함해주세요.\n",
    "        2. 나만의 모델 아키텍쳐를 디자인 해봅니다.\n",
    "        3. 모델의 output_dimension 은 num_classes 로 설정해주세요.\n",
    "        \"\"\"\n",
    "        self.pretrain_model = torchvision.models.resnext50_32x4d(pretrained=True)\n",
    "        self.pretrain_model.fc = torch.nn.Linear(in_features=2048, out_features=num_classes, bias=True) # resnet18.fc의 in_features의 크기는?\n",
    "        # torch.nn.init.xavier_uniform_(pretrain_model.fc.weight)\n",
    "        # stdv = 1.0/np.sqrt(512) # fully connected layer의 bias를 resnet18.fc in_feature의 크기의 1/root(n) 크기의 uniform 분산 값 중 하나로 설정해주세요! - Why? https://stackoverflow.com/questions/49433936/how-to-initialize-weights-in-pytorch\n",
    "        # pretrain_model.fc.bias.data.uniform_(-stdv, stdv)\n",
    "\n",
    "    def forward(self, x):\n",
    "        \"\"\"\n",
    "        1. 위에서 정의한 모델 아키텍쳐를 forward propagation 을 진행해주세요\n",
    "        2. 결과로 나온 output 을 return 해주세요\n",
    "        \"\"\"\n",
    "        x = self.pretrain_model.forward(x)\n",
    "        return x\n",
    "\n",
    "\n",
    "# Custom Model Template\n",
    "class MultiRes50(nn.Module):\n",
    "    def __init__(self, num_classes):\n",
    "        super().__init__()\n",
    "        \n",
    "        \"\"\"\n",
    "        1. 위와 같이 생성자의 parameter 에 num_claases 를 포함해주세요.\n",
    "        2. 나만의 모델 아키텍쳐를 디자인 해봅니다.\n",
    "        3. 모델의 output_dimension 은 num_classes 로 설정해주세요.\n",
    "        \"\"\"\n",
    "        self.res50 = Res50(num_classes)\n",
    "        self.res50.load_state_dict(torch.load(\"/opt/ml/workspace/code/model/res50CusDS3/best.pth\"))\n",
    "        self.res50.to(\"cpu\")\n",
    "        \n",
    "        self.res50 = nn.Sequential(*list(self.res50.pretrain_model.children())[:-1])\n",
    "\n",
    "        self.mask = nn.Linear(2048, 3, bias=True)\n",
    "        self.age = nn.Linear(2048, 3, bias=True)\n",
    "        self.gender = nn.Linear(2048, 3, bias=True)\n",
    "        # torch.nn.init.xavier_uniform_(pretrain_model.fc.weight)\n",
    "        # stdv = 1.0/np.sqrt(512) # fully connected layer의 bias를 resnet18.fc in_feature의 크기의 1/root(n) 크기의 uniform 분산 값 중 하나로 설정해주세요! - Why? https://stackoverflow.com/questions/49433936/how-to-initialize-weights-in-pytorch\n",
    "        # pretrain_model.fc.bias.data.uniform_(-stdv, stdv)\n",
    "\n",
    "    def forward(self, x):\n",
    "        \"\"\"\n",
    "        1. 위에서 정의한 모델 아키텍쳐를 forward propagation 을 진행해주세요\n",
    "        2. 결과로 나온 output 을 return 해주세요\n",
    "        \"\"\"\n",
    "        x = self.res50.forward(x)\n",
    "        x = torch.flatten(x, start_dim=1)\n",
    "        m = self.mask(x)\n",
    "        a = self.age(x)\n",
    "        s = self.gender(x)\n",
    "        return {\"mask\":m, \"age\":a, \"gender\":s}"
   ]
  },
  {
   "cell_type": "code",
   "execution_count": 3,
   "metadata": {},
   "outputs": [],
   "source": [
    "def dfs_freeze(model):\n",
    "    for name, child in model.named_children():\n",
    "        for param in child.parameters():\n",
    "            #print(param)\n",
    "            param.requires_grad = False\n",
    "            #print(param)\n",
    "        dfs_freeze(child)"
   ]
  },
  {
   "cell_type": "code",
   "execution_count": 4,
   "metadata": {},
   "outputs": [],
   "source": [
    "mask_model = MultiRes50(18)"
   ]
  },
  {
   "cell_type": "code",
   "execution_count": 5,
   "metadata": {},
   "outputs": [],
   "source": [
    "dfs_freeze(mask_model.res50)"
   ]
  },
  {
   "cell_type": "code",
   "execution_count": 6,
   "metadata": {},
   "outputs": [],
   "source": [
    "# from torchsummary import summary\n",
    "# summary(mask_model.to(device),input_size=(3,320,320))"
   ]
  },
  {
   "cell_type": "markdown",
   "metadata": {},
   "source": [
    "- 기존 train data 1가지\n",
    "- mask, gender, age 각각 labeling을 한 데이터프레임 3가지\n",
    "- 총 4가지의 데이터프레임을 Dataset모듈에 넣을 것임"
   ]
  },
  {
   "cell_type": "code",
   "execution_count": 7,
   "metadata": {},
   "outputs": [],
   "source": [
    "# # 기본 train 데이터 셋\n",
    "df = pd.read_csv('train_label.csv')\n",
    "# df.head(5)"
   ]
  },
  {
   "cell_type": "code",
   "execution_count": 8,
   "metadata": {},
   "outputs": [],
   "source": [
    "def split_data(df):\n",
    "    # # wear, incorrect, normal 3가지 클래스로 변경\n",
    "    # # 0~5, 6~11, 12~17끼리 묶는다\n",
    "    df_mask = df.copy()\n",
    "\n",
    "    def mask_label(x):\n",
    "        if x in [0,1,2,3,4,5]:\n",
    "            return 0    # wear\n",
    "        elif x in [6,7,8,9,10,11]:\n",
    "            return 1    # incorrect\n",
    "        else:\n",
    "            return 2    # not wear\n",
    "\n",
    "    df_mask['label'] = df_mask['label'].apply(mask_label)\n",
    "\n",
    "    # # 남성, 여성 2가지 클래스로 변경\n",
    "    # # [0,1,2,6,7,8,12,13,14], [3,4,5,9,10,11,15,16,17]\n",
    "    df_gender = df.copy()\n",
    "\n",
    "    def gender_label(x):\n",
    "        if x in [0,1,2,6,7,8,12,13,14]:\n",
    "            return 0    # male\n",
    "        else:\n",
    "            return 1    # female\n",
    "\n",
    "    df_gender['label'] = df_gender['label'].apply(gender_label)\n",
    "\n",
    "    # # 청년, 중년, 장년 3가지 클래스로 변경\n",
    "    # # [0,3,6,9,12,15], [1,4,7,10,13,16], [2,5,8,11,14,17]\n",
    "    df_age = df.copy()\n",
    "\n",
    "    def age_label(x):\n",
    "        if x in [0,3,6,9,12,15]:\n",
    "            return 0    # young\n",
    "        elif x in [1,4,7,10,13,16]:\n",
    "            return 1    # middle\n",
    "        else:\n",
    "            return 2    # old\n",
    "\n",
    "    df_age['label'] = df_age['label'].apply(age_label)\n",
    "\n",
    "    return df_mask['label'],df_age['label'],df_gender['label']\n"
   ]
  },
  {
   "cell_type": "markdown",
   "metadata": {},
   "source": [
    "### Dataset  정의\n",
    "- mask, gender, age 별로 label 나눔"
   ]
  },
  {
   "cell_type": "code",
   "execution_count": 9,
   "metadata": {},
   "outputs": [],
   "source": [
    "class MultiBranchDataset(Dataset):\n",
    "    def __init__(self, df, transforms):\n",
    "        self.df = df\n",
    "        self.image_data = self.df['path']   # x data, 이미지\n",
    "        self.image_label = self.df['label'] # y data, 레이블\n",
    "\n",
    "\n",
    "        self.mask_label, self.age_label, self.gender_label = split_data(df)\n",
    "        self.transform = transforms\n",
    "\n",
    "    def __len__(self):\n",
    "        return len(self.df)\n",
    "\n",
    "    def __getitem__(self, idx):\n",
    "\n",
    "        img_path = self.df['path'].iloc[idx]\n",
    "        img = Image.open(img_path)\n",
    "\n",
    "        if self.transform:\n",
    "            img = self.transform(img)\n",
    "        \n",
    "        dict_label = {\n",
    "            'class' : self.image_label.iloc[idx],\n",
    "            'mask' : self.mask_label.iloc[idx],\n",
    "            'gender' : self.gender_label.iloc[idx],\n",
    "            'age' : self.age_label.iloc[idx]\n",
    "        }\n",
    "\n",
    "        return img, dict_label\n",
    "\n",
    "class CusDataset(Dataset):\n",
    "    def __init__(self, df, transform):\n",
    "        self.df = df\n",
    "        self.image_data = self.df['path']   # x data, 이미지\n",
    "        self.image_label = self.df['label'] # y data, 레이블\n",
    "\n",
    "        self.transform = transform\n",
    "\n",
    "    def __getitem__(self, idx):\n",
    "        image = Image.open(self.image_data.iloc[idx])\n",
    "        label = self.image_label.iloc[idx]\n",
    "\n",
    "        if self.transform:\n",
    "            image = self.transform(image)\n",
    "        return image, torch.tensor(label)\n",
    "\n",
    "    def __len__(self):\n",
    "        return len(self.image_label)\n"
   ]
  },
  {
   "cell_type": "markdown",
   "metadata": {},
   "source": [
    "#### Transform & Dataset\n",
    "- 모든 데이터를 한방에 학습할 때와\n",
    "- train과 valid를 split할 때의 코드가 다름 (train, valid를 쪼갠거와 동일한 mask, gender, age 레이블링이 필요함)"
   ]
  },
  {
   "cell_type": "code",
   "execution_count": 10,
   "metadata": {},
   "outputs": [
    {
     "name": "stdout",
     "output_type": "stream",
     "text": [
      "(14175, 3) (4725, 3)\n"
     ]
    }
   ],
   "source": [
    "# Transform Compose\n",
    "data_transform = torchvision.transforms.Compose([\n",
    "    # transforms.CenterCrop(320),\n",
    "    torchvision.transforms.CenterCrop(320),\n",
    "    torchvision.transforms.ToTensor(),\n",
    "    torchvision.transforms.Normalize(mean=(0.5,0.5,0.5), std=(0.2,0.2,0.2)),\n",
    "])\n",
    "\n",
    "\n",
    "from sklearn.model_selection import train_test_split\n",
    "train, valid = train_test_split(df, test_size = 0.25, shuffle=True, stratify=df['label'], random_state=1234)\n",
    "print(train.shape, valid.shape)\n",
    "\n",
    "# train_dataset = CusDataset(train, data_transform)\n",
    "# test_dataset = CusDataset(valid, data_transform)\n",
    "\n",
    "# train data 한방에 학습시키는 경우\n",
    "train_dataset = MultiBranchDataset(train,data_transform)\n",
    "test_dataset = MultiBranchDataset(valid,data_transform)"
   ]
  },
  {
   "cell_type": "markdown",
   "metadata": {},
   "source": [
    "### DataLoader\n",
    "- 여기서 3개로 나눌 필요가 없음\n",
    "- 모델 train에서 loss를 따로 나눌 것임"
   ]
  },
  {
   "cell_type": "code",
   "execution_count": 11,
   "metadata": {},
   "outputs": [],
   "source": [
    "train_dataloader = DataLoader(train_dataset, batch_size=50, \n",
    "        num_workers=2,\n",
    "        shuffle=True,\n",
    "        pin_memory=torch.cuda.is_available(),\n",
    "        drop_last=True,)\n",
    "\n",
    "test_dataloader = DataLoader(test_dataset, batch_size=50, \n",
    "        num_workers=2,\n",
    "        shuffle=True,\n",
    "        pin_memory=torch.cuda.is_available(),\n",
    "        drop_last=True,)"
   ]
  },
  {
   "cell_type": "code",
   "execution_count": 12,
   "metadata": {},
   "outputs": [],
   "source": [
    "dataloaders = {\n",
    "    \"train\" : train_dataloader,\n",
    "    \"test\" : test_dataloader\n",
    "}"
   ]
  },
  {
   "cell_type": "markdown",
   "metadata": {},
   "source": [
    "데이터로더의 label 부분을 보면 mask, gender, age별로 배치사이즈에 맞게 레이블 정보가 담아짐"
   ]
  },
  {
   "cell_type": "code",
   "execution_count": 13,
   "metadata": {},
   "outputs": [
    {
     "data": {
      "text/plain": [
       "{'class': tensor([ 3,  3,  1, 10,  3,  2, 12,  3,  0,  3,  4,  3,  5,  4, 10,  3,  1, 16,\n",
       "          3, 15, 12, 12,  0,  0,  4,  3, 16,  3, 12,  3,  4,  3,  3,  4, 12,  0,\n",
       "         13,  3,  0,  7,  9, 10,  1,  3, 11,  3,  4,  3,  3,  3]),\n",
       " 'mask': tensor([0, 0, 0, 1, 0, 0, 2, 0, 0, 0, 0, 0, 0, 0, 1, 0, 0, 2, 0, 2, 2, 2, 0, 0,\n",
       "         0, 0, 2, 0, 2, 0, 0, 0, 0, 0, 2, 0, 2, 0, 0, 1, 1, 1, 0, 0, 1, 0, 0, 0,\n",
       "         0, 0]),\n",
       " 'gender': tensor([1, 1, 0, 1, 1, 0, 0, 1, 0, 1, 1, 1, 1, 1, 1, 1, 0, 1, 1, 1, 0, 0, 0, 0,\n",
       "         1, 1, 1, 1, 0, 1, 1, 1, 1, 1, 0, 0, 0, 1, 0, 0, 1, 1, 0, 1, 1, 1, 1, 1,\n",
       "         1, 1]),\n",
       " 'age': tensor([0, 0, 1, 1, 0, 2, 0, 0, 0, 0, 1, 0, 2, 1, 1, 0, 1, 1, 0, 0, 0, 0, 0, 0,\n",
       "         1, 0, 1, 0, 0, 0, 1, 0, 0, 1, 0, 0, 1, 0, 0, 1, 0, 1, 1, 0, 2, 0, 1, 0,\n",
       "         0, 0])}"
      ]
     },
     "execution_count": 13,
     "metadata": {},
     "output_type": "execute_result"
    }
   ],
   "source": [
    "next(iter(train_dataloader))[1]"
   ]
  },
  {
   "cell_type": "markdown",
   "metadata": {},
   "source": [
    "#### Conv layer 빠져나오고 브랜치 만들기"
   ]
  },
  {
   "cell_type": "code",
   "execution_count": 14,
   "metadata": {},
   "outputs": [],
   "source": [
    "# class MultiBranchModel(nn.Module):\n",
    "#     def __init__(self):\n",
    "#         super().__init__()\n",
    "        \n",
    "#         self.base_model = torchvision.models.resnet18(pretrained=True)\n",
    "\n",
    "#         self.base_model = nn.Sequential(*list(self.base_model.children())[:-1])\n",
    "\n",
    "#         self.mask = nn.Sequential(\n",
    "#             # nn.Dropout(p=0.2),\n",
    "#             nn.Linear(512, 3, bias=True)\n",
    "#         )\n",
    "#         self.gender = nn.Sequential(\n",
    "#             # nn.Dropout(p=0.2),\n",
    "#             nn.Linear(512, 2, bias=True)\n",
    "#         )\n",
    "#         self.age = nn.Sequential(\n",
    "#             # nn.Dropout(p=0.2),\n",
    "#             nn.Linear(512, 3, bias=True)\n",
    "#         )\n",
    "        \n",
    "\n",
    "#     def forward(self, x):\n",
    "#         x = self.base_model(x)\n",
    "#         # print(x.shape)\n",
    "\n",
    "#         x = torch.flatten(x, start_dim=1)\n",
    "#         # print('22: ', x.shape)\n",
    "\n",
    "#         return {\n",
    "#             'mask': self.mask(x),\n",
    "#             'gender': self.gender(x),\n",
    "#             'age': self.age(x)\n",
    "#         }\n",
    "\n",
    "#     # Loss 함수 구현 부분\n",
    "#     def get_loss(self, net_output, ground_truth):\n",
    "#         mask_loss = F.cross_entropy(net_output['mask'], ground_truth['mask'].to(device))\n",
    "#         gender_loss = F.cross_entropy(net_output['gender'], ground_truth['gender'].to(device))\n",
    "#         age_loss = F.cross_entropy(net_output['age'], ground_truth['age'].to(device))\n",
    "\n",
    "#         loss = mask_loss + gender_loss + age_loss\n",
    "\n",
    "#         return loss, {'mask' : mask_loss, 'gender' : gender_loss, 'age' : age_loss}"
   ]
  },
  {
   "cell_type": "markdown",
   "metadata": {},
   "source": [
    "### Loss 함수 정의\n",
    "- 3가지 task 각각 loss 구하고 합침"
   ]
  },
  {
   "cell_type": "code",
   "execution_count": 15,
   "metadata": {},
   "outputs": [],
   "source": [
    "# def get_loss(net_output, ground_truth):\n",
    "#     mask_loss = F.cross_entropy(net_output['mask'], ground_truth['mask'])\n",
    "#     gender_loss = F.cross_entropy(net_output['gender'], ground_truth['gender'])\n",
    "#     age_loss = F.cross_entropy(net_output['age'], ground_truth['age'])\n",
    "\n",
    "#     loss = mask_loss + gender_loss + age_loss\n",
    "\n",
    "#     return loss, {'mask' : mask_loss, 'gender' : gender_loss, 'age' : age_loss}"
   ]
  },
  {
   "cell_type": "markdown",
   "metadata": {},
   "source": [
    "## Train"
   ]
  },
  {
   "cell_type": "code",
   "execution_count": 31,
   "metadata": {},
   "outputs": [],
   "source": [
    "target_model = mask_model.to(device)\n",
    "\n",
    "LEARNING_RATE = 0.0001\n",
    "NUM_EPOCH = 3\n",
    "\n",
    "optimizer = {\n",
    "        \"mask\":torch.optim.Adam(mask_model.mask.parameters(), lr=LEARNING_RATE),\n",
    "        \"age\":torch.optim.Adam(mask_model.age.parameters(), lr=LEARNING_RATE),\n",
    "        \"gender\":torch.optim.Adam(mask_model.gender.parameters(), lr=LEARNING_RATE)\n",
    "    }\n",
    "#optimizer = torch.optim.Adam(mask_model.parameters(), lr=LEARNING_RATE)\n",
    "\n",
    "mask_loss_fn = torch.nn.CrossEntropyLoss()\n",
    "age_loss_fn = torch.nn.CrossEntropyLoss()\n",
    "gender_loss_fn = torch.nn.CrossEntropyLoss()\n",
    "loss_fn = {\"mask\":mask_loss_fn,\"age\":age_loss_fn,\"gender\":gender_loss_fn}"
   ]
  },
  {
   "cell_type": "code",
   "execution_count": 17,
   "metadata": {},
   "outputs": [],
   "source": [
    "from tqdm.notebook import tqdm "
   ]
  },
  {
   "cell_type": "code",
   "execution_count": 34,
   "metadata": {},
   "outputs": [
    {
     "data": {
      "application/vnd.jupyter.widget-view+json": {
       "model_id": "03a6cce296b0402b8902df52ccadf697",
       "version_major": 2,
       "version_minor": 0
      },
      "text/plain": [
       "HBox(children=(HTML(value=''), FloatProgress(value=0.0, max=283.0), HTML(value='')))"
      ]
     },
     "metadata": {},
     "output_type": "display_data"
    },
    {
     "name": "stdout",
     "output_type": "stream",
     "text": [
      "\n",
      "현재 epoch-0의 train-데이터 셋에서 평균 Loss : 0.004, 평균 Accuracy : 0.997\n",
      "현재 epoch-0의 train-데이터 셋에서 평균 Loss : 0.058, 평균 Accuracy : 0.982\n",
      "현재 epoch-0의 train-데이터 셋에서 평균 Loss : 0.018, 평균 Accuracy : 0.994\n"
     ]
    },
    {
     "data": {
      "application/vnd.jupyter.widget-view+json": {
       "model_id": "fb2b04d114024a68b1ba3343e705c0a0",
       "version_major": 2,
       "version_minor": 0
      },
      "text/plain": [
       "HBox(children=(HTML(value=''), FloatProgress(value=0.0, max=94.0), HTML(value='')))"
      ]
     },
     "metadata": {},
     "output_type": "display_data"
    },
    {
     "name": "stdout",
     "output_type": "stream",
     "text": [
      "\n",
      "현재 epoch-0의 test-데이터 셋에서 평균 Loss : 0.001, 평균 Accuracy : 0.994\n",
      "현재 epoch-0의 test-데이터 셋에서 평균 Loss : 0.047, 평균 Accuracy : 0.981\n",
      "현재 epoch-0의 test-데이터 셋에서 평균 Loss : 0.015, 평균 Accuracy : 0.991\n"
     ]
    },
    {
     "data": {
      "application/vnd.jupyter.widget-view+json": {
       "model_id": "e98830383ecd423697150d9f2565ef32",
       "version_major": 2,
       "version_minor": 0
      },
      "text/plain": [
       "HBox(children=(HTML(value=''), FloatProgress(value=0.0, max=283.0), HTML(value='')))"
      ]
     },
     "metadata": {},
     "output_type": "display_data"
    },
    {
     "name": "stdout",
     "output_type": "stream",
     "text": [
      "\n",
      "현재 epoch-1의 train-데이터 셋에서 평균 Loss : 0.006, 평균 Accuracy : 0.997\n",
      "현재 epoch-1의 train-데이터 셋에서 평균 Loss : 0.059, 평균 Accuracy : 0.981\n",
      "현재 epoch-1의 train-데이터 셋에서 평균 Loss : 0.018, 평균 Accuracy : 0.994\n"
     ]
    },
    {
     "data": {
      "application/vnd.jupyter.widget-view+json": {
       "model_id": "925f8182db6d422795798300b8beba95",
       "version_major": 2,
       "version_minor": 0
      },
      "text/plain": [
       "HBox(children=(HTML(value=''), FloatProgress(value=0.0, max=94.0), HTML(value='')))"
      ]
     },
     "metadata": {},
     "output_type": "display_data"
    },
    {
     "name": "stdout",
     "output_type": "stream",
     "text": [
      "\n",
      "현재 epoch-1의 test-데이터 셋에서 평균 Loss : 0.001, 평균 Accuracy : 0.994\n",
      "현재 epoch-1의 test-데이터 셋에서 평균 Loss : 0.044, 평균 Accuracy : 0.983\n",
      "현재 epoch-1의 test-데이터 셋에서 평균 Loss : 0.014, 평균 Accuracy : 0.992\n"
     ]
    },
    {
     "data": {
      "application/vnd.jupyter.widget-view+json": {
       "model_id": "e47da31c62c1429ba8db18ec6f0de0a1",
       "version_major": 2,
       "version_minor": 0
      },
      "text/plain": [
       "HBox(children=(HTML(value=''), FloatProgress(value=0.0, max=283.0), HTML(value='')))"
      ]
     },
     "metadata": {},
     "output_type": "display_data"
    },
    {
     "name": "stdout",
     "output_type": "stream",
     "text": [
      "\n",
      "현재 epoch-2의 train-데이터 셋에서 평균 Loss : 0.004, 평균 Accuracy : 0.997\n",
      "현재 epoch-2의 train-데이터 셋에서 평균 Loss : 0.058, 평균 Accuracy : 0.982\n",
      "현재 epoch-2의 train-데이터 셋에서 평균 Loss : 0.018, 평균 Accuracy : 0.994\n"
     ]
    },
    {
     "data": {
      "application/vnd.jupyter.widget-view+json": {
       "model_id": "9dff1997a85344eeac9160971c86c9ed",
       "version_major": 2,
       "version_minor": 0
      },
      "text/plain": [
       "HBox(children=(HTML(value=''), FloatProgress(value=0.0, max=94.0), HTML(value='')))"
      ]
     },
     "metadata": {},
     "output_type": "display_data"
    },
    {
     "name": "stdout",
     "output_type": "stream",
     "text": [
      "\n",
      "현재 epoch-2의 test-데이터 셋에서 평균 Loss : 0.001, 평균 Accuracy : 0.994\n",
      "현재 epoch-2의 test-데이터 셋에서 평균 Loss : 0.043, 평균 Accuracy : 0.983\n",
      "현재 epoch-2의 test-데이터 셋에서 평균 Loss : 0.015, 평균 Accuracy : 0.991\n",
      "학습 종료!\n",
      "최고 accuracy : 0.9944973587989807, 최고 낮은 loss : 0.000657279985067102\n",
      "학습 종료!\n",
      "최고 accuracy : 0.9832804799079895, 최고 낮은 loss : 0.043468732179866895\n",
      "학습 종료!\n",
      "최고 accuracy : 0.991534411907196, 최고 낮은 loss : 0.014447200169636519\n"
     ]
    }
   ],
   "source": [
    "best_test_accuracy = {\"mask\":0.,\"age\":0.,\"gender\":0.}\n",
    "best_test_loss = {\"mask\":9999.,\"age\":9999.,\"gender\":9999.}\n",
    "\n",
    "for epoch in range(NUM_EPOCH):\n",
    "    for phase in [\"train\", \"test\"]:\n",
    "        running_loss = {\"mask\":0.,\"age\":0.,\"gender\":0.}\n",
    "        running_acc = {\"mask\":0.,\"age\":0.,\"gender\":0.}\n",
    "        if phase == \"train\":\n",
    "            target_model.train() # 네트워크 모델을 train 모드로 두어 gradient을 계산하고, 여러 sub module (배치 정규화, 드롭아웃 등)이 train mode로 작동할 수 있도록 함\n",
    "        elif phase == \"test\":\n",
    "            target_model.eval()\n",
    "\n",
    "        for ind, (images, labels) in enumerate(tqdm(dataloaders[phase])):\n",
    "            images = images.to(device)\n",
    "            labels = labels#.to(device) \n",
    "\n",
    "            for k in [\"mask\",\"age\",\"gender\"]:\n",
    "                optimizer[k].zero_grad()\n",
    "            loss = {}\n",
    "            preds = {}\n",
    "            with torch.set_grad_enabled(phase == \"train\"): # train 모드일 시에는 gradient를 계산하고, 아닐 때는 gradient를 계산하지 않아 연산량 최소화\n",
    "                logits = target_model(images)\n",
    "\n",
    "                for k,v in logits.items():\n",
    "                    _, preds[k] = torch.max(v, 1)\n",
    "                    loss[k] = loss_fn[k](v, labels[k].to(device))\n",
    "\n",
    "                if phase == \"train\":\n",
    "                    for k,v in loss.items():\n",
    "                        loss[k].backward()\n",
    "                        optimizer[k].step() # 계산된 gradient를 가지고 모델 업데이트\n",
    "\n",
    "            for k,v in loss.items():\n",
    "                running_loss[k] += loss[k].item() * images.size(0) # 한 Batch에서의 loss 값 저장\n",
    "                running_acc[k] += torch.sum(preds[k] == labels[k].data.to(device)) # 한 Batch에서의 Accuracy 값 저장\n",
    "\n",
    "        epoch_loss = {}\n",
    "        epoch_acc = {}\n",
    "        # 한 epoch이 모두 종료되었을 때,\n",
    "        for k in [\"mask\",\"age\",\"gender\"]:\n",
    "            epoch_loss[k] = running_loss[k] / len(dataloaders[phase].dataset)\n",
    "            epoch_acc[k] = running_acc[k] / len(dataloaders[phase].dataset)\n",
    "            print(f\"현재 epoch-{epoch}의 {phase}-데이터 셋에서 평균 Loss : {epoch_loss[k]:.3f}, 평균 Accuracy : {epoch_acc[k]:.3f}\")\n",
    "            if phase == \"test\" and best_test_accuracy[k] < epoch_acc[k]: # phase가 test일 때, best accuracy 계산\n",
    "                best_test_accuracy[k] = epoch_acc[k]\n",
    "            if phase == \"test\" and best_test_loss[k] > epoch_loss[k]: # phase가 test일 때, best loss 계산\n",
    "                best_test_loss[k] = epoch_loss[k]\n",
    "        # if i % 50 == 0:\n",
    "        #     print('Epoch: {}, i: {},Loss: {:.6f}'.format(epoch, i, running_loss))\n",
    "        #     print(f'{i}번 배치: {running_acc}/{(i+1)*64}, 정확도: {running_acc/((i+1)*64)}')\n",
    "for k in [\"mask\",\"age\",\"gender\"]: \n",
    "    print(\"학습 종료!\")\n",
    "    print(f\"최고 accuracy : {best_test_accuracy[k]}, 최고 낮은 loss : {best_test_loss[k]}\")\n"
   ]
  },
  {
   "cell_type": "markdown",
   "metadata": {},
   "source": [
    "### 테스트(Evaluation) 중, mask, gender, age별 output 뽑아내기\n",
    "- 최종 클래스 예측(18개)으로 변환\n",
    "- mask : 0, 1, 2 (wear, incorrect, not wear)\n",
    "- gender : 0, 1  (male, female)\n",
    "- age : 0, 1, 2  (young, middle, old)\n",
    "- class : (mask * 6) + (gender * 3) + (age)"
   ]
  },
  {
   "cell_type": "code",
   "execution_count": null,
   "metadata": {},
   "outputs": [],
   "source": [
    "output = mask_model(image)\n",
    "pred_mask = torch.argmax(output['mask'], dim=-1)\n",
    "pred_gender = torch.argmax(output['gender'], dim=-1)\n",
    "pred_age = torch.argmax(output['age'], dim=-1)\n",
    "\n",
    "pred_class = (pred_mask * 6) + (pred_gender * 3) + (pred_age)"
   ]
  },
  {
   "cell_type": "code",
   "execution_count": null,
   "metadata": {},
   "outputs": [],
   "source": []
  },
  {
   "cell_type": "markdown",
   "metadata": {},
   "source": [
    "## Testing"
   ]
  },
  {
   "cell_type": "code",
   "execution_count": 35,
   "metadata": {},
   "outputs": [],
   "source": [
    "class TestDataset(Dataset):\n",
    "    def __init__(self, img_paths, transform):\n",
    "        self.img_paths = img_paths\n",
    "        self.transform = transform\n",
    "\n",
    "    def __getitem__(self, index):\n",
    "        image = Image.open(self.img_paths[index])\n",
    "\n",
    "        if self.transform:\n",
    "            image = self.transform(image)\n",
    "\n",
    "\n",
    "        return image\n",
    "\n",
    "    def __len__(self):\n",
    "        return len(self.img_paths)"
   ]
  },
  {
   "cell_type": "code",
   "execution_count": 74,
   "metadata": {},
   "outputs": [
    {
     "data": {
      "application/vnd.jupyter.widget-view+json": {
       "model_id": "3e1feca812334915a641cf6218c8864b",
       "version_major": 2,
       "version_minor": 0
      },
      "text/plain": [
       "HBox(children=(HTML(value=''), FloatProgress(value=0.0, max=12600.0), HTML(value='')))"
      ]
     },
     "metadata": {},
     "output_type": "display_data"
    },
    {
     "name": "stdout",
     "output_type": "stream",
     "text": [
      "\n",
      "test inference is done!\n"
     ]
    }
   ],
   "source": [
    "# meta 데이터와 이미지 경로를 불러옵니다.\n",
    "test_dir = '/opt/ml/input/data/eval'\n",
    "submission = pd.read_csv(os.path.join(test_dir, 'info.csv'))\n",
    "image_dir = os.path.join(test_dir, 'images')\n",
    "\n",
    "# Test Dataset 클래스 객체를 생성하고 DataLoader를 만듭니다.\n",
    "image_paths = [os.path.join(image_dir, img_id) for img_id in submission.ImageID]\n",
    "\n",
    "dataset = TestDataset(image_paths, data_transform)\n",
    "\n",
    "loader = DataLoader(\n",
    "    dataset,\n",
    "    shuffle=False\n",
    ")\n",
    "\n",
    "# 모델을 정의합니다. (학습한 모델이 있다면 torch.load로 모델을 불러주세요!)\n",
    "device = torch.device('cuda')\n",
    "test_model = target_model.to(device)\n",
    "test_model.eval()\n",
    "\n",
    "# 모델이 테스트 데이터셋을 예측하고 결과를 저장합니다.\n",
    "all_predictions = []\n",
    "for images in tqdm(loader):\n",
    "    with torch.no_grad():\n",
    "        images = images.to(device)\n",
    "        output = test_model(images)\n",
    "\n",
    "        pred_mask = torch.argmax(output['mask'], dim=-1)\n",
    "        pred_gender = torch.argmax(output['gender'], dim=-1)\n",
    "        pred_age = torch.argmax(output['age'], dim=-1)\n",
    "        pred_class = (pred_mask * 6) + (pred_gender * 3) + (pred_age)\n",
    "\n",
    "        all_predictions.extend(pred_class.cpu().numpy())\n",
    "submission['ans'] = all_predictions\n",
    "\n",
    "# 제출할 파일을 저장합니다.\n",
    "submission.to_csv(os.path.join(test_dir, 'submission3ways2.csv'), index=False)\n",
    "print('test inference is done!')"
   ]
  },
  {
   "cell_type": "markdown",
   "metadata": {},
   "source": [
    "### Save"
   ]
  },
  {
   "cell_type": "code",
   "execution_count": 38,
   "metadata": {},
   "outputs": [],
   "source": [
    "torch.save(target_model.mask.state_dict(), \"./resnext50_32x4dfc3ways_mask.pt\")"
   ]
  },
  {
   "cell_type": "markdown",
   "metadata": {},
   "source": [
    "### Performance"
   ]
  },
  {
   "cell_type": "code",
   "execution_count": 91,
   "metadata": {},
   "outputs": [],
   "source": [
    "train_dir = '/opt/ml/input/data/train'\n",
    "valid = pd.read_csv(os.path.join(train_dir, 'train_label.csv'))\n"
   ]
  },
  {
   "cell_type": "code",
   "execution_count": 58,
   "metadata": {},
   "outputs": [],
   "source": [
    "class CusDataset(Dataset):\n",
    "    def __init__(self, df, transform):\n",
    "        self.df = df\n",
    "        self.image_data = self.df['path']   # x data, 이미지\n",
    "        self.image_label = self.df['label'] # y data, 레이블\n",
    "\n",
    "        self.transform = transform\n",
    "\n",
    "    def __getitem__(self, idx):\n",
    "        image = Image.open(self.image_data.iloc[idx])\n",
    "        label = self.image_label.iloc[idx]\n",
    "\n",
    "        if self.transform:\n",
    "            image = self.transform(image)\n",
    "        return image, torch.tensor(label)\n",
    "\n",
    "    def __len__(self):\n",
    "        return len(self.image_label)\n"
   ]
  },
  {
   "cell_type": "code",
   "execution_count": 88,
   "metadata": {},
   "outputs": [],
   "source": [
    "def check_eval(raw_data, dataloader, model, device):\n",
    "    all_predictions = []\n",
    "    with torch.no_grad():\n",
    "        for i , (X,y) in enumerate(tqdm(dataloader)):\n",
    "            model_pred = model.forward(X.to(device))\n",
    "\n",
    "            pred_mask = torch.argmax(model_pred['mask'], dim=-1)\n",
    "            pred_gender = torch.argmax(model_pred['gender'], dim=-1)\n",
    "            pred_age = torch.argmax(model_pred['age'], dim=-1)\n",
    "            pred_class = (pred_mask * 6) + (pred_gender * 3) + (pred_age)\n",
    "\n",
    "            all_predictions.extend([[valid.iloc[i]['path'], pred_class.cpu().numpy()[0],y.cpu().numpy()[0]]])\n",
    "    #print(all_predictions)\n",
    "    result = pd.DataFrame(all_predictions, columns=['path', 'pred', 'target'])\n",
    "    return result"
   ]
  },
  {
   "cell_type": "code",
   "execution_count": null,
   "metadata": {},
   "outputs": [],
   "source": [
    "valid_dataset = CusDataset(valid, data_transform)\n",
    "valid_dataloader = DataLoader(valid_dataset, batch_size=1, \n",
    "        num_workers=8,\n",
    "        shuffle=True,\n",
    "        pin_memory=torch.cuda.is_available(),\n",
    "        drop_last=True,\n",
    "    )\n",
    "\n",
    "check_eval_df = check_eval(valid, valid_dataloader, target_model, device)\n",
    "check_eval_df"
   ]
  },
  {
   "cell_type": "code",
   "execution_count": 93,
   "metadata": {},
   "outputs": [
    {
     "name": "stdout",
     "output_type": "stream",
     "text": [
      "305\n"
     ]
    }
   ],
   "source": [
    "wrong_df = check_eval_df[check_eval_df['pred'] != check_eval_df['target']]\n",
    "wrong_df = wrong_df.reset_index(drop=True)\n",
    "# wrong_df.head()\n",
    "print(len(wrong_df))"
   ]
  },
  {
   "cell_type": "code",
   "execution_count": 94,
   "metadata": {},
   "outputs": [
    {
     "data": {
      "text/plain": [
       "0.9670378591343353"
      ]
     },
     "execution_count": 94,
     "metadata": {},
     "output_type": "execute_result"
    }
   ],
   "source": [
    "from sklearn.metrics import f1_score\n",
    "f1_score(check_eval_df['target'], check_eval_df['pred'], average='macro')"
   ]
  },
  {
   "cell_type": "code",
   "execution_count": null,
   "metadata": {},
   "outputs": [],
   "source": []
  }
 ],
 "metadata": {
  "interpreter": {
   "hash": "d4d1e4263499bec80672ea0156c357c1ee493ec2b1c70f0acce89fc37c4a6abe"
  },
  "kernelspec": {
   "display_name": "Python 3.8.5 ('base')",
   "language": "python",
   "name": "python3"
  },
  "language_info": {
   "codemirror_mode": {
    "name": "ipython",
    "version": 3
   },
   "file_extension": ".py",
   "mimetype": "text/x-python",
   "name": "python",
   "nbconvert_exporter": "python",
   "pygments_lexer": "ipython3",
   "version": "3.8.5"
  },
  "orig_nbformat": 4
 },
 "nbformat": 4,
 "nbformat_minor": 2
}
