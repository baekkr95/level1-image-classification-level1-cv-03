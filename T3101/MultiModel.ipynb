{
 "cells": [
  {
   "cell_type": "markdown",
   "metadata": {},
   "source": [
    "## Multi Label(Head, Branch) Classifier\n",
    "- 하나의 Convolution 모델에서 3개의 FC Layer 브랜치를 만들어보자"
   ]
  },
  {
   "cell_type": "code",
   "execution_count": 31,
   "metadata": {},
   "outputs": [
    {
     "name": "stdout",
     "output_type": "stream",
     "text": [
      "cuda\n"
     ]
    }
   ],
   "source": [
    "import os\n",
    "import pandas as pd\n",
    "import torch\n",
    "import torch.nn as nn\n",
    "import torchvision\n",
    "import torch.nn.functional as F\n",
    "from torch.utils.data import Dataset, DataLoader\n",
    "from PIL import Image\n",
    "from torchvision import transforms\n",
    "\n",
    "device = torch.device('cuda' if torch.cuda.is_available() else 'cpu')\n",
    "print(device)\n"
   ]
  },
  {
   "cell_type": "markdown",
   "metadata": {},
   "source": [
    "- 기존 train data 1가지\n",
    "- mask, gender, age 각각 labeling을 한 데이터프레임 3가지\n",
    "- 총 4가지의 데이터프레임을 Dataset모듈에 넣을 것임"
   ]
  },
  {
   "cell_type": "code",
   "execution_count": 2,
   "metadata": {},
   "outputs": [
    {
     "data": {
      "text/html": [
       "<div>\n",
       "<style scoped>\n",
       "    .dataframe tbody tr th:only-of-type {\n",
       "        vertical-align: middle;\n",
       "    }\n",
       "\n",
       "    .dataframe tbody tr th {\n",
       "        vertical-align: top;\n",
       "    }\n",
       "\n",
       "    .dataframe thead th {\n",
       "        text-align: right;\n",
       "    }\n",
       "</style>\n",
       "<table border=\"1\" class=\"dataframe\">\n",
       "  <thead>\n",
       "    <tr style=\"text-align: right;\">\n",
       "      <th></th>\n",
       "      <th>Unnamed: 0</th>\n",
       "      <th>path</th>\n",
       "      <th>label</th>\n",
       "    </tr>\n",
       "  </thead>\n",
       "  <tbody>\n",
       "    <tr>\n",
       "      <th>0</th>\n",
       "      <td>0</td>\n",
       "      <td>../input/data/train/images/000001_female_Asian...</td>\n",
       "      <td>4</td>\n",
       "    </tr>\n",
       "    <tr>\n",
       "      <th>1</th>\n",
       "      <td>1</td>\n",
       "      <td>../input/data/train/images/000001_female_Asian...</td>\n",
       "      <td>4</td>\n",
       "    </tr>\n",
       "    <tr>\n",
       "      <th>2</th>\n",
       "      <td>2</td>\n",
       "      <td>../input/data/train/images/000001_female_Asian...</td>\n",
       "      <td>4</td>\n",
       "    </tr>\n",
       "    <tr>\n",
       "      <th>3</th>\n",
       "      <td>3</td>\n",
       "      <td>../input/data/train/images/000001_female_Asian...</td>\n",
       "      <td>10</td>\n",
       "    </tr>\n",
       "    <tr>\n",
       "      <th>4</th>\n",
       "      <td>4</td>\n",
       "      <td>../input/data/train/images/000001_female_Asian...</td>\n",
       "      <td>4</td>\n",
       "    </tr>\n",
       "  </tbody>\n",
       "</table>\n",
       "</div>"
      ],
      "text/plain": [
       "   Unnamed: 0                                               path  label\n",
       "0           0  ../input/data/train/images/000001_female_Asian...      4\n",
       "1           1  ../input/data/train/images/000001_female_Asian...      4\n",
       "2           2  ../input/data/train/images/000001_female_Asian...      4\n",
       "3           3  ../input/data/train/images/000001_female_Asian...     10\n",
       "4           4  ../input/data/train/images/000001_female_Asian...      4"
      ]
     },
     "execution_count": 2,
     "metadata": {},
     "output_type": "execute_result"
    }
   ],
   "source": [
    "# # 기본 train 데이터 셋\n",
    "# df = pd.read_csv('train_label.csv')\n",
    "# df.head(5)"
   ]
  },
  {
   "cell_type": "code",
   "execution_count": 19,
   "metadata": {},
   "outputs": [],
   "source": [
    "# # wear, incorrect, normal 3가지 클래스로 변경\n",
    "# # 0~5, 6~11, 12~17끼리 묶는다\n",
    "# df_mask = df.copy()\n",
    "\n",
    "# def mask_label(x):\n",
    "#     if x in [0,1,2,3,4,5]:\n",
    "#         return 0    # wear\n",
    "#     elif x in [6,7,8,9,10,11]:\n",
    "#         return 1    # incorrect\n",
    "#     else:\n",
    "#         return 2    # not wear\n",
    "\n",
    "# df_mask['label'] = df_mask['label'].apply(mask_label)\n",
    "\n",
    "# # 남성, 여성 2가지 클래스로 변경\n",
    "# # [0,1,2,6,7,8,12,13,14], [3,4,5,9,10,11,15,16,17]\n",
    "# df_gender = df.copy()\n",
    "\n",
    "# def gender_label(x):\n",
    "#     if x in [0,1,2,6,7,8,12,13,14]:\n",
    "#         return 0    # male\n",
    "#     else:\n",
    "#         return 1    # female\n",
    "\n",
    "# df_gender['label'] = df_gender['label'].apply(gender_label)\n",
    "\n",
    "# # 청년, 중년, 장년 3가지 클래스로 변경\n",
    "# # [0,3,6,9,12,15], [1,4,7,10,13,16], [2,5,8,11,14,17]\n",
    "# df_age = df.copy()\n",
    "\n",
    "# def age_label(x):\n",
    "#     if x in [0,3,6,9,12,15]:\n",
    "#         return 0    # young\n",
    "#     elif x in [1,4,7,10,13,16]:\n",
    "#         return 1    # middle\n",
    "#     else:\n",
    "#         return 2    # old\n",
    "\n",
    "# df_age['label'] = df_age['label'].apply(age_label)\n",
    "\n",
    "# # 청년, 중년, 장년 3가지 클래스로 변경\n",
    "# # [0,3,6,9,12,15], [1,4,7,10,13,16], [2,5,8,11,14,17]\n",
    "# df_age = df.copy()"
   ]
  },
  {
   "cell_type": "markdown",
   "metadata": {},
   "source": [
    "### Dataset  정의\n",
    "- mask, gender, age 별로 label 나눔"
   ]
  },
  {
   "cell_type": "code",
   "execution_count": 32,
   "metadata": {},
   "outputs": [],
   "source": [
    "class MultiBranchDataset(Dataset):\n",
    "    def __init__(self, df, df_mask, df_gender, df_age, transforms):\n",
    "        self.df = df\n",
    "        self.image_data = self.df['path']   # x data, 이미지\n",
    "        self.image_label = self.df['label'] # y data, 레이블\n",
    "\n",
    "        self.mask_label = df_mask['label']\n",
    "        self.gender_label = df_gender['label']\n",
    "        self.age_label = df_age['label']\n",
    "\n",
    "        self.transform = transforms\n",
    "\n",
    "    def __len__(self):\n",
    "        return len(self.df)\n",
    "\n",
    "    def __getitem__(self, idx):\n",
    "\n",
    "        img_path = self.df['path'].iloc[idx]\n",
    "        img = Image.open(img_path)\n",
    "\n",
    "        if self.transform:\n",
    "            img = self.transform(img)\n",
    "        \n",
    "        dict_label = {\n",
    "            'mask' : self.mask_label[idx],\n",
    "            'gender' : self.gender_label[idx],\n",
    "            'age' : self.age_label[idx]\n",
    "        }\n",
    "\n",
    "        return img, dict_label"
   ]
  },
  {
   "cell_type": "markdown",
   "metadata": {},
   "source": [
    "#### Transform & Dataset"
   ]
  },
  {
   "cell_type": "code",
   "execution_count": 33,
   "metadata": {},
   "outputs": [],
   "source": [
    "# Transform Compose\n",
    "data_transform = torchvision.transforms.Compose([\n",
    "    # transforms.CenterCrop(320),\n",
    "    torchvision.transforms.Resize((350,350),Image.BILINEAR),\n",
    "    torchvision.transforms.ToTensor(),\n",
    "    torchvision.transforms.Normalize(mean=(0.5,0.5,0.5), std=(0.2,0.2,0.2)),\n",
    "])\n",
    "\n",
    "# 데이터셋 준비\n",
    "df = pd.read_csv('train_label.csv')\n",
    "df_mask = pd.read_csv('df_mask.csv')\n",
    "df_gender = pd.read_csv('df_gender.csv')\n",
    "df_age = pd.read_csv('df_age.csv')\n",
    "\n",
    "\n",
    "train_dataset = MultiBranchDataset(df, df_mask, df_gender, df_age, data_transform)"
   ]
  },
  {
   "cell_type": "markdown",
   "metadata": {},
   "source": [
    "### DataLoader\n",
    "- 여기서 3개로 나눌 필요가 없음\n",
    "- 모델 train에서 loss를 따로 나눌 것임"
   ]
  },
  {
   "cell_type": "code",
   "execution_count": 34,
   "metadata": {},
   "outputs": [],
   "source": [
    "train_dataloader = DataLoader(train_dataset, batch_size=64, shuffle=True)\n"
   ]
  },
  {
   "cell_type": "markdown",
   "metadata": {},
   "source": [
    "데이터로더의 label 부분을 보면 mask, gender, age별로 배치사이즈에 맞게 레이블 정보가 담아짐"
   ]
  },
  {
   "cell_type": "code",
   "execution_count": 38,
   "metadata": {},
   "outputs": [
    {
     "data": {
      "text/plain": [
       "{'mask': tensor([0, 0, 0, 0, 0, 0, 2, 0, 0, 0, 0, 0, 0, 0, 2, 2, 0, 0, 1, 1, 2, 1, 0, 0,\n",
       "         0, 2, 0, 0, 0, 1, 1, 0, 0, 0, 0, 0, 0, 0, 1, 0, 0, 2, 0, 0, 2, 0, 2, 2,\n",
       "         0, 0, 0, 0, 0, 0, 0, 2, 0, 0, 0, 1, 0, 0, 0, 0]),\n",
       " 'gender': tensor([0, 1, 1, 1, 0, 1, 1, 0, 1, 0, 0, 1, 1, 0, 1, 1, 1, 1, 1, 1, 0, 1, 1, 1,\n",
       "         0, 1, 0, 0, 1, 1, 1, 1, 1, 1, 0, 1, 1, 1, 0, 1, 1, 1, 1, 0, 1, 1, 1, 0,\n",
       "         1, 1, 1, 1, 0, 1, 0, 0, 1, 0, 0, 1, 0, 1, 0, 1]),\n",
       " 'age': tensor([1, 1, 0, 1, 1, 1, 0, 0, 1, 0, 1, 0, 2, 1, 1, 0, 1, 1, 1, 1, 1, 1, 1, 0,\n",
       "         2, 0, 0, 1, 2, 0, 1, 1, 1, 0, 1, 0, 1, 0, 0, 1, 1, 0, 2, 0, 1, 1, 0, 0,\n",
       "         1, 0, 1, 0, 1, 1, 1, 1, 1, 2, 0, 1, 0, 1, 2, 1])}"
      ]
     },
     "execution_count": 38,
     "metadata": {},
     "output_type": "execute_result"
    }
   ],
   "source": [
    "next(iter(train_dataloader))[1]"
   ]
  },
  {
   "cell_type": "markdown",
   "metadata": {},
   "source": [
    "#### Conv layer 빠져나오고 브랜치 만들기"
   ]
  },
  {
   "cell_type": "code",
   "execution_count": 13,
   "metadata": {},
   "outputs": [],
   "source": [
    "class MultiBranchModel(nn.Module):\n",
    "    def __init__(self):\n",
    "        super().__init__()\n",
    "        \n",
    "        self.base_model = torchvision.models.resnet18(pretrained=True)\n",
    "\n",
    "        base_model = nn.Sequential(*list(self.base_model.children())[:-1])\n",
    "\n",
    "        self.mask = nn.Sequential(\n",
    "            nn.Dropout(p=0.2),\n",
    "            nn.Linear(512, 3, bias=True)\n",
    "        )\n",
    "        self.gender = nn.Sequential(\n",
    "            nn.Dropout(p=0.2),\n",
    "            nn.Linear(512, 2, bias=True)\n",
    "        )\n",
    "        self.age = nn.Sequential(\n",
    "            nn.Dropout(p=0.2),\n",
    "            nn.Linear(512, 3, bias=True)\n",
    "        )\n",
    "        \n",
    "\n",
    "    def forward(self, x):\n",
    "        x = self.base_model(x)\n",
    "        \n",
    "        return {\n",
    "            'mask': self.mask(x),\n",
    "            'gender': self.gender(x),\n",
    "            'age': self.age(x)\n",
    "        }\n"
   ]
  },
  {
   "cell_type": "code",
   "execution_count": null,
   "metadata": {},
   "outputs": [],
   "source": [
    "model = MultiBranchModel().to(device)\n",
    "\n",
    "optimizier = torch.optim.Adam(model.parameters())"
   ]
  },
  {
   "cell_type": "markdown",
   "metadata": {},
   "source": [
    "### Loss 함수 정의\n",
    "- 3가지 task 각각 loss 구하고 합침"
   ]
  },
  {
   "cell_type": "code",
   "execution_count": null,
   "metadata": {},
   "outputs": [],
   "source": [
    "def get_loss(net_output, ground_truth):\n",
    "    mask_loss = F.cross_entropy(net_output['mask'], ground_truth['mask'])\n",
    "    gender_loss = F.cross_entropy(net_output['gender'], ground_truth['gender'])\n",
    "    age_loss = F.cross_entropy(net_output['age'], ground_truth['age'])\n",
    "\n",
    "    loss = mask_loss + gender_loss + age_loss\n",
    "\n",
    "    return loss, {'mask' : mask_loss, 'gender' : gender_loss, 'age' : age_loss}"
   ]
  },
  {
   "cell_type": "markdown",
   "metadata": {},
   "source": [
    "#### 학습 중에 Loss 계산\n",
    "- output 결과 : mask, gender, age별 예측 레이블\n",
    "- target_labels : mask, gender, age별 실제 레이블"
   ]
  },
  {
   "cell_type": "code",
   "execution_count": null,
   "metadata": {},
   "outputs": [],
   "source": [
    "output = model(image)\n",
    "\n",
    "loss_train, _ = get_loss(output, target_labels)\n",
    "total_loss += loss_train.item()\n"
   ]
  },
  {
   "cell_type": "markdown",
   "metadata": {},
   "source": [
    "### 테스트(Evaluation) 중, mask, gender, age별 output 뽑아내기\n",
    "- 최종 클래스 예측(18개)으로 변환\n",
    "- mask : 0, 1, 2 (wear, incorrect, not wear)\n",
    "- gender : 0, 1  (male, female)\n",
    "- age : 0, 1, 2  (young, middle, old)\n",
    "- class : (mask * 6) + (gender * 3) + (age)"
   ]
  },
  {
   "cell_type": "code",
   "execution_count": null,
   "metadata": {},
   "outputs": [],
   "source": [
    "output = model(image)\n",
    "pred_mask = torch.argmax(output['mask'], dim=-1)\n",
    "pred_gender = torch.argmax(output['gender'], dim=-1)\n",
    "pred_age = torch.argmax(output['age'], dim=-1)\n",
    "\n",
    "pred_class = (pred_mask * 6) + (pred_gender * 3) + (pred_age)"
   ]
  },
  {
   "cell_type": "markdown",
   "metadata": {},
   "source": []
  }
 ],
 "metadata": {
  "interpreter": {
   "hash": "d4d1e4263499bec80672ea0156c357c1ee493ec2b1c70f0acce89fc37c4a6abe"
  },
  "kernelspec": {
   "display_name": "Python 3.8.5 ('base')",
   "language": "python",
   "name": "python3"
  },
  "language_info": {
   "codemirror_mode": {
    "name": "ipython",
    "version": 3
   },
   "file_extension": ".py",
   "mimetype": "text/x-python",
   "name": "python",
   "nbconvert_exporter": "python",
   "pygments_lexer": "ipython3",
   "version": "3.8.5"
  },
  "orig_nbformat": 4
 },
 "nbformat": 4,
 "nbformat_minor": 2
}
