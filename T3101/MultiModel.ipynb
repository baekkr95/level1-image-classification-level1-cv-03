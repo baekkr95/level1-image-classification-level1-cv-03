{
 "cells": [
  {
   "cell_type": "markdown",
   "metadata": {},
   "source": [
    "## Multi Label(Head, Branch) Classifier\n",
    "- 하나의 Convolution 모델에서 3개의 FC Layer 브랜치를 만들어보자"
   ]
  },
  {
   "cell_type": "code",
   "execution_count": 1,
   "metadata": {},
   "outputs": [
    {
     "name": "stdout",
     "output_type": "stream",
     "text": [
      "cuda\n"
     ]
    }
   ],
   "source": [
    "import os\n",
    "import pandas as pd\n",
    "from PIL import Image\n",
    "import matplotlib.pyplot as plt \n",
    "\n",
    "import torch\n",
    "import torch.nn as nn\n",
    "import torchvision\n",
    "import torch.nn.functional as F\n",
    "from torch.utils.data import Dataset, DataLoader\n",
    "from torchvision import transforms\n",
    "\n",
    "device = torch.device('cuda' if torch.cuda.is_available() else 'cpu')\n",
    "print(device)\n"
   ]
  },
  {
   "cell_type": "markdown",
   "metadata": {},
   "source": [
    "- 기존 train data 1가지\n",
    "- mask, gender, age 각각 labeling을 한 데이터프레임 3가지\n",
    "- 총 4가지의 데이터프레임을 Dataset모듈에 넣을 것임"
   ]
  },
  {
   "cell_type": "code",
   "execution_count": 2,
   "metadata": {},
   "outputs": [
    {
     "data": {
      "text/html": [
       "<div>\n",
       "<style scoped>\n",
       "    .dataframe tbody tr th:only-of-type {\n",
       "        vertical-align: middle;\n",
       "    }\n",
       "\n",
       "    .dataframe tbody tr th {\n",
       "        vertical-align: top;\n",
       "    }\n",
       "\n",
       "    .dataframe thead th {\n",
       "        text-align: right;\n",
       "    }\n",
       "</style>\n",
       "<table border=\"1\" class=\"dataframe\">\n",
       "  <thead>\n",
       "    <tr style=\"text-align: right;\">\n",
       "      <th></th>\n",
       "      <th>Unnamed: 0</th>\n",
       "      <th>path</th>\n",
       "      <th>label</th>\n",
       "    </tr>\n",
       "  </thead>\n",
       "  <tbody>\n",
       "    <tr>\n",
       "      <th>0</th>\n",
       "      <td>0</td>\n",
       "      <td>../input/data/train/images/000001_female_Asian...</td>\n",
       "      <td>4</td>\n",
       "    </tr>\n",
       "    <tr>\n",
       "      <th>1</th>\n",
       "      <td>1</td>\n",
       "      <td>../input/data/train/images/000001_female_Asian...</td>\n",
       "      <td>4</td>\n",
       "    </tr>\n",
       "    <tr>\n",
       "      <th>2</th>\n",
       "      <td>2</td>\n",
       "      <td>../input/data/train/images/000001_female_Asian...</td>\n",
       "      <td>4</td>\n",
       "    </tr>\n",
       "    <tr>\n",
       "      <th>3</th>\n",
       "      <td>3</td>\n",
       "      <td>../input/data/train/images/000001_female_Asian...</td>\n",
       "      <td>10</td>\n",
       "    </tr>\n",
       "    <tr>\n",
       "      <th>4</th>\n",
       "      <td>4</td>\n",
       "      <td>../input/data/train/images/000001_female_Asian...</td>\n",
       "      <td>4</td>\n",
       "    </tr>\n",
       "  </tbody>\n",
       "</table>\n",
       "</div>"
      ],
      "text/plain": [
       "   Unnamed: 0                                               path  label\n",
       "0           0  ../input/data/train/images/000001_female_Asian...      4\n",
       "1           1  ../input/data/train/images/000001_female_Asian...      4\n",
       "2           2  ../input/data/train/images/000001_female_Asian...      4\n",
       "3           3  ../input/data/train/images/000001_female_Asian...     10\n",
       "4           4  ../input/data/train/images/000001_female_Asian...      4"
      ]
     },
     "execution_count": 2,
     "metadata": {},
     "output_type": "execute_result"
    }
   ],
   "source": [
    "# # 기본 train 데이터 셋\n",
    "# df = pd.read_csv('train_label.csv')\n",
    "# df.head(5)"
   ]
  },
  {
   "cell_type": "code",
   "execution_count": 19,
   "metadata": {},
   "outputs": [],
   "source": [
    "# # wear, incorrect, normal 3가지 클래스로 변경\n",
    "# # 0~5, 6~11, 12~17끼리 묶는다\n",
    "# df_mask = df.copy()\n",
    "\n",
    "# def mask_label(x):\n",
    "#     if x in [0,1,2,3,4,5]:\n",
    "#         return 0    # wear\n",
    "#     elif x in [6,7,8,9,10,11]:\n",
    "#         return 1    # incorrect\n",
    "#     else:\n",
    "#         return 2    # not wear\n",
    "\n",
    "# df_mask['label'] = df_mask['label'].apply(mask_label)\n",
    "\n",
    "# # 남성, 여성 2가지 클래스로 변경\n",
    "# # [0,1,2,6,7,8,12,13,14], [3,4,5,9,10,11,15,16,17]\n",
    "# df_gender = df.copy()\n",
    "\n",
    "# def gender_label(x):\n",
    "#     if x in [0,1,2,6,7,8,12,13,14]:\n",
    "#         return 0    # male\n",
    "#     else:\n",
    "#         return 1    # female\n",
    "\n",
    "# df_gender['label'] = df_gender['label'].apply(gender_label)\n",
    "\n",
    "# # 청년, 중년, 장년 3가지 클래스로 변경\n",
    "# # [0,3,6,9,12,15], [1,4,7,10,13,16], [2,5,8,11,14,17]\n",
    "# df_age = df.copy()\n",
    "\n",
    "# def age_label(x):\n",
    "#     if x in [0,3,6,9,12,15]:\n",
    "#         return 0    # young\n",
    "#     elif x in [1,4,7,10,13,16]:\n",
    "#         return 1    # middle\n",
    "#     else:\n",
    "#         return 2    # old\n",
    "\n",
    "# df_age['label'] = df_age['label'].apply(age_label)\n"
   ]
  },
  {
   "cell_type": "markdown",
   "metadata": {},
   "source": [
    "### Dataset  정의\n",
    "- mask, gender, age 별로 label 나눔"
   ]
  },
  {
   "cell_type": "code",
   "execution_count": 60,
   "metadata": {},
   "outputs": [],
   "source": [
    "class MultiBranchDataset(Dataset):\n",
    "    def __init__(self, df, df_mask, df_gender, df_age, transforms):\n",
    "        self.df = df\n",
    "        self.image_data = self.df['path']   # x data, 이미지\n",
    "        self.image_label = self.df['label'] # y data, 레이블\n",
    "\n",
    "        self.mask_label = df_mask['label']\n",
    "        self.gender_label = df_gender['label']\n",
    "        self.age_label = df_age['label']\n",
    "\n",
    "        self.transform = transforms\n",
    "\n",
    "    def __len__(self):\n",
    "        return len(self.df)\n",
    "\n",
    "    def __getitem__(self, idx):\n",
    "\n",
    "        img_path = self.df['path'].iloc[idx]\n",
    "        img = Image.open(img_path)\n",
    "\n",
    "        if self.transform:\n",
    "            img = self.transform(img)\n",
    "        \n",
    "        dict_label = {\n",
    "            'class' : self.image_label[idx],\n",
    "            'mask' : self.mask_label[idx],\n",
    "            'gender' : self.gender_label[idx],\n",
    "            'age' : self.age_label[idx]\n",
    "        }\n",
    "\n",
    "        return img, dict_label"
   ]
  },
  {
   "cell_type": "code",
   "execution_count": 61,
   "metadata": {},
   "outputs": [
    {
     "name": "stdout",
     "output_type": "stream",
     "text": [
      "(14175, 3) (4725, 3)\n"
     ]
    }
   ],
   "source": [
    "# 데이터셋 준비\n",
    "df = pd.read_csv('train_label.csv')\n",
    "df_mask = pd.read_csv('df_mask.csv')\n",
    "df_gender = pd.read_csv('df_gender.csv')\n",
    "df_age = pd.read_csv('df_age.csv')"
   ]
  },
  {
   "cell_type": "markdown",
   "metadata": {},
   "source": [
    "#### Transform & Dataset\n",
    "- 모든 데이터를 한방에 학습할 때와\n",
    "- train과 valid를 split할 때의 코드가 다름 (train, valid를 쪼갠거와 동일한 mask, gender, age 레이블링이 필요함)"
   ]
  },
  {
   "cell_type": "code",
   "execution_count": 62,
   "metadata": {},
   "outputs": [],
   "source": [
    "# Transform Compose\n",
    "data_transform = torchvision.transforms.Compose([\n",
    "    # transforms.CenterCrop(320),\n",
    "    torchvision.transforms.Resize((350,350),Image.BILINEAR),\n",
    "    torchvision.transforms.ToTensor(),\n",
    "    torchvision.transforms.Normalize(mean=(0.5,0.5,0.5), std=(0.2,0.2,0.2)),\n",
    "])\n",
    "\n",
    "# train data 한방에 학습시키는 경우\n",
    "train_dataset = MultiBranchDataset(df, df_mask, df_gender, df_age, data_transform)\n",
    "\n"
   ]
  },
  {
   "cell_type": "code",
   "execution_count": null,
   "metadata": {},
   "outputs": [],
   "source": [
    "# 데이터를 split할 경우, 기존 데이터(train, valid)와 이에 해당하는 mask, age, gender 레이블을 모두 맞춰야함\n",
    "from sklearn.model_selection import train_test_split\n",
    "train, valid = train_test_split(df, test_size = 0.25, shuffle=True, stratify=df['label'], random_state=1234)\n",
    "print(train.shape, valid.shape)\n",
    "\n",
    "### train에 대해서 mask, age, gender 데이터프레임 생성\n",
    "df_mask = train.copy()\n",
    "\n",
    "def mask_label(x):\n",
    "    if x in [0,1,2,3,4,5]:\n",
    "        return 0    # wear\n",
    "    elif x in [6,7,8,9,10,11]:\n",
    "        return 1    # incorrect\n",
    "    else:\n",
    "        return 2    # not wear\n",
    "\n",
    "df_mask['label'] = df_mask['label'].apply(mask_label)\n",
    "\n",
    "# 남성, 여성 2가지 클래스로 변경\n",
    "# [0,1,2,6,7,8,12,13,14], [3,4,5,9,10,11,15,16,17]\n",
    "df_gender = train.copy()\n",
    "\n",
    "def gender_label(x):\n",
    "    if x in [0,1,2,6,7,8,12,13,14]:\n",
    "        return 0    # male\n",
    "    else:\n",
    "        return 1    # female\n",
    "\n",
    "df_gender['label'] = df_gender['label'].apply(gender_label)\n",
    "\n",
    "# 청년, 중년, 장년 3가지 클래스로 변경\n",
    "# [0,3,6,9,12,15], [1,4,7,10,13,16], [2,5,8,11,14,17]\n",
    "df_age = train.copy()\n",
    "\n",
    "def age_label(x):\n",
    "    if x in [0,3,6,9,12,15]:\n",
    "        return 0    # young\n",
    "    elif x in [1,4,7,10,13,16]:\n",
    "        return 1    # middle\n",
    "    else:\n",
    "        return 2    # old\n",
    "\n",
    "df_age['label'] = df_age['label'].apply(age_label)\n"
   ]
  },
  {
   "cell_type": "markdown",
   "metadata": {},
   "source": [
    "### DataLoader\n",
    "- 여기서 3개로 나눌 필요가 없음\n",
    "- 모델 train에서 loss를 따로 나눌 것임"
   ]
  },
  {
   "cell_type": "code",
   "execution_count": 63,
   "metadata": {},
   "outputs": [],
   "source": [
    "train_dataloader = DataLoader(train_dataset, batch_size=64, shuffle=True)\n"
   ]
  },
  {
   "cell_type": "markdown",
   "metadata": {},
   "source": [
    "데이터로더의 label 부분을 보면 mask, gender, age별로 배치사이즈에 맞게 레이블 정보가 담아짐"
   ]
  },
  {
   "cell_type": "code",
   "execution_count": 64,
   "metadata": {},
   "outputs": [
    {
     "data": {
      "text/plain": [
       "{'class': tensor([15,  3,  0,  5, 15, 15,  9,  3,  0, 16,  4,  3,  3,  4,  0,  0,  3, 14,\n",
       "          3,  0,  7,  4,  9,  4,  0, 15,  4,  4, 17, 16,  9, 17, 16,  0,  3,  9,\n",
       "          5,  7, 10, 15,  2, 15,  3,  3,  0,  1,  0, 16,  3,  4, 16,  1,  2,  7,\n",
       "          5,  4, 16,  1,  8,  2,  3,  2,  0,  1]),\n",
       " 'mask': tensor([2, 0, 0, 0, 2, 2, 1, 0, 0, 2, 0, 0, 0, 0, 0, 0, 0, 2, 0, 0, 1, 0, 1, 0,\n",
       "         0, 2, 0, 0, 2, 2, 1, 2, 2, 0, 0, 1, 0, 1, 1, 2, 0, 2, 0, 0, 0, 0, 0, 2,\n",
       "         0, 0, 2, 0, 0, 1, 0, 0, 2, 0, 1, 0, 0, 0, 0, 0]),\n",
       " 'gender': tensor([1, 1, 0, 1, 1, 1, 1, 1, 0, 1, 1, 1, 1, 1, 0, 0, 1, 0, 1, 0, 0, 1, 1, 1,\n",
       "         0, 1, 1, 1, 1, 1, 1, 1, 1, 0, 1, 1, 1, 0, 1, 1, 0, 1, 1, 1, 0, 0, 0, 1,\n",
       "         1, 1, 1, 0, 0, 0, 1, 1, 1, 0, 0, 0, 1, 0, 0, 0]),\n",
       " 'age': tensor([0, 0, 0, 2, 0, 0, 0, 0, 0, 1, 1, 0, 0, 1, 0, 0, 0, 2, 0, 0, 1, 1, 0, 1,\n",
       "         0, 0, 1, 1, 2, 1, 0, 2, 1, 0, 0, 0, 2, 1, 1, 0, 2, 0, 0, 0, 0, 1, 0, 1,\n",
       "         0, 1, 1, 1, 2, 1, 2, 1, 1, 1, 2, 2, 0, 2, 0, 1])}"
      ]
     },
     "execution_count": 64,
     "metadata": {},
     "output_type": "execute_result"
    }
   ],
   "source": [
    "next(iter(train_dataloader))[1]"
   ]
  },
  {
   "cell_type": "markdown",
   "metadata": {},
   "source": [
    "#### Conv layer 빠져나오고 브랜치 만들기"
   ]
  },
  {
   "cell_type": "code",
   "execution_count": 65,
   "metadata": {},
   "outputs": [],
   "source": [
    "class MultiBranchModel(nn.Module):\n",
    "    def __init__(self):\n",
    "        super().__init__()\n",
    "        \n",
    "        self.base_model = torchvision.models.resnet18(pretrained=True)\n",
    "\n",
    "        self.base_model = nn.Sequential(*list(self.base_model.children())[:-1])\n",
    "\n",
    "        self.mask = nn.Sequential(\n",
    "            # nn.Dropout(p=0.2),\n",
    "            nn.Linear(512, 3, bias=True)\n",
    "        )\n",
    "        self.gender = nn.Sequential(\n",
    "            # nn.Dropout(p=0.2),\n",
    "            nn.Linear(512, 2, bias=True)\n",
    "        )\n",
    "        self.age = nn.Sequential(\n",
    "            # nn.Dropout(p=0.2),\n",
    "            nn.Linear(512, 3, bias=True)\n",
    "        )\n",
    "        \n",
    "\n",
    "    def forward(self, x):\n",
    "        x = self.base_model(x)\n",
    "        # print(x.shape)\n",
    "\n",
    "        x = torch.flatten(x, start_dim=1)\n",
    "        # print('22: ', x.shape)\n",
    "\n",
    "        return {\n",
    "            'mask': self.mask(x),\n",
    "            'gender': self.gender(x),\n",
    "            'age': self.age(x)\n",
    "        }\n",
    "\n",
    "    # Loss 함수 구현 부분\n",
    "    def get_loss(self, net_output, ground_truth):\n",
    "        mask_loss = F.cross_entropy(net_output['mask'], ground_truth['mask'].to(device))\n",
    "        gender_loss = F.cross_entropy(net_output['gender'], ground_truth['gender'].to(device))\n",
    "        age_loss = F.cross_entropy(net_output['age'], ground_truth['age'].to(device))\n",
    "\n",
    "        loss = mask_loss + gender_loss + age_loss\n",
    "\n",
    "        return loss, {'mask' : mask_loss, 'gender' : gender_loss, 'age' : age_loss}"
   ]
  },
  {
   "cell_type": "code",
   "execution_count": 39,
   "metadata": {},
   "outputs": [],
   "source": [
    "model = MultiBranchModel()\n",
    "x = torch.ones((1,3,224,224))\n",
    "out = model.forward(x)"
   ]
  },
  {
   "cell_type": "markdown",
   "metadata": {},
   "source": [
    "### Loss 함수 정의\n",
    "- 3가지 task 각각 loss 구하고 합침"
   ]
  },
  {
   "cell_type": "code",
   "execution_count": null,
   "metadata": {},
   "outputs": [],
   "source": [
    "# def get_loss(net_output, ground_truth):\n",
    "#     mask_loss = F.cross_entropy(net_output['mask'], ground_truth['mask'])\n",
    "#     gender_loss = F.cross_entropy(net_output['gender'], ground_truth['gender'])\n",
    "#     age_loss = F.cross_entropy(net_output['age'], ground_truth['age'])\n",
    "\n",
    "#     loss = mask_loss + gender_loss + age_loss\n",
    "\n",
    "#     return loss, {'mask' : mask_loss, 'gender' : gender_loss, 'age' : age_loss}"
   ]
  },
  {
   "cell_type": "markdown",
   "metadata": {},
   "source": [
    "## Train"
   ]
  },
  {
   "cell_type": "code",
   "execution_count": 71,
   "metadata": {},
   "outputs": [],
   "source": [
    "model = MultiBranchModel().to(device)\n",
    "\n",
    "LEARNING_RATE = 0.001\n",
    "NUM_EPOCH = 3\n",
    "optimizer = torch.optim.Adam(model.parameters(), lr=LEARNING_RATE)\n"
   ]
  },
  {
   "cell_type": "code",
   "execution_count": 74,
   "metadata": {},
   "outputs": [
    {
     "name": "stdout",
     "output_type": "stream",
     "text": [
      "Epoch: 0, i: 0,Loss: 0.299706\n",
      "0번 배치: 54/64, 정확도: 0.84375\n",
      "Epoch: 0, i: 50,Loss: 0.086221\n",
      "50번 배치: 3110/3264, 정확도: 0.9528186321258545\n",
      "Epoch: 0, i: 100,Loss: 0.314374\n",
      "100번 배치: 6128/6464, 정확도: 0.948019802570343\n",
      "Epoch: 0, i: 150,Loss: 0.120939\n",
      "150번 배치: 9155/9664, 정확도: 0.9473302960395813\n",
      "Epoch: 0, i: 200,Loss: 0.134061\n",
      "200번 배치: 12235/12864, 정확도: 0.9511038064956665\n",
      "Epoch: 0, i: 250,Loss: 0.044403\n",
      "250번 배치: 15287/16064, 정확도: 0.9516310095787048\n",
      "Final Accuracy : tensor(0.9522, device='cuda:0')\n",
      "Epoch: 1, i: 0,Loss: 0.203645\n",
      "0번 배치: 58/64, 정확도: 0.90625\n",
      "Epoch: 1, i: 50,Loss: 0.041827\n",
      "50번 배치: 3153/3264, 정확도: 0.9659926891326904\n",
      "Epoch: 1, i: 100,Loss: 0.036559\n",
      "100번 배치: 6276/6464, 정확도: 0.9709158539772034\n",
      "Epoch: 1, i: 150,Loss: 0.140769\n",
      "150번 배치: 9398/9664, 정확도: 0.9724751710891724\n",
      "Epoch: 1, i: 200,Loss: 0.075183\n",
      "200번 배치: 12522/12864, 정확도: 0.9734141826629639\n",
      "Epoch: 1, i: 250,Loss: 0.074180\n",
      "250번 배치: 15622/16064, 정확도: 0.9724850654602051\n",
      "Final Accuracy : tensor(0.9729, device='cuda:0')\n",
      "Epoch: 2, i: 0,Loss: 0.126798\n",
      "0번 배치: 62/64, 정확도: 0.96875\n",
      "Epoch: 2, i: 50,Loss: 0.104045\n",
      "50번 배치: 3178/3264, 정확도: 0.9736520051956177\n",
      "Epoch: 2, i: 100,Loss: 0.009096\n",
      "100번 배치: 6323/6464, 정확도: 0.978186845779419\n",
      "Epoch: 2, i: 150,Loss: 0.007814\n",
      "150번 배치: 9446/9664, 정확도: 0.9774420261383057\n",
      "Epoch: 2, i: 200,Loss: 0.009401\n",
      "200번 배치: 12591/12864, 정확도: 0.9787779450416565\n",
      "Epoch: 2, i: 250,Loss: 0.030165\n",
      "250번 배치: 15716/16064, 정확도: 0.9783366918563843\n",
      "Final Accuracy : tensor(0.9783, device='cuda:0')\n"
     ]
    }
   ],
   "source": [
    "\n",
    "for epoch in range(NUM_EPOCH):\n",
    "    running_acc = 0\n",
    "    total_loss = 0\n",
    "    for i, (images, labels) in enumerate(train_dataloader):\n",
    "\n",
    "        images = images.to(device)\n",
    "        labels = labels # dict타입이라서 get_loss 함수 안에서 따로 cuda로 올림\n",
    "\n",
    "        optimizer.zero_grad()\n",
    "\n",
    "        output = model(images)\n",
    "\n",
    "\n",
    "        pred_mask = torch.argmax(output['mask'], dim=-1)\n",
    "        pred_gender = torch.argmax(output['gender'], dim=-1)\n",
    "        pred_age = torch.argmax(output['age'], dim=-1)\n",
    "        pred_class = (pred_mask * 6) + (pred_gender * 3) + (pred_age)\n",
    "\n",
    "        loss_train, _ = model.get_loss(output, labels)\n",
    "        total_loss += loss_train.item()\n",
    "\n",
    "        loss_train.backward()       # gradient를 계산\n",
    "        optimizer.step()      # gradient descent\n",
    "    \n",
    "\n",
    "        running_acc += torch.sum(pred_class == labels['class'].to(device))\n",
    "\n",
    "    \n",
    "        if i % 50 == 0:\n",
    "            print('Epoch: {}, i: {},Loss: {:.6f}'.format(epoch, i, loss_train.item()))\n",
    "            print(f'{i}번 배치: {running_acc}/{(i+1)*64}, 정확도: {running_acc/((i+1)*64)}')\n",
    "    \n",
    "    epoch_acc = running_acc / len(train_dataloader.dataset)\n",
    "    print('Final Accuracy :', epoch_acc)\n"
   ]
  },
  {
   "cell_type": "markdown",
   "metadata": {},
   "source": [
    "### 테스트(Evaluation) 중, mask, gender, age별 output 뽑아내기\n",
    "- 최종 클래스 예측(18개)으로 변환\n",
    "- mask : 0, 1, 2 (wear, incorrect, not wear)\n",
    "- gender : 0, 1  (male, female)\n",
    "- age : 0, 1, 2  (young, middle, old)\n",
    "- class : (mask * 6) + (gender * 3) + (age)"
   ]
  },
  {
   "cell_type": "code",
   "execution_count": null,
   "metadata": {},
   "outputs": [],
   "source": [
    "output = model(image)\n",
    "pred_mask = torch.argmax(output['mask'], dim=-1)\n",
    "pred_gender = torch.argmax(output['gender'], dim=-1)\n",
    "pred_age = torch.argmax(output['age'], dim=-1)\n",
    "\n",
    "pred_class = (pred_mask * 6) + (pred_gender * 3) + (pred_age)"
   ]
  },
  {
   "cell_type": "code",
   "execution_count": null,
   "metadata": {},
   "outputs": [],
   "source": []
  },
  {
   "cell_type": "markdown",
   "metadata": {},
   "source": [
    "## Testing"
   ]
  },
  {
   "cell_type": "code",
   "execution_count": 75,
   "metadata": {},
   "outputs": [],
   "source": [
    "class TestDataset(Dataset):\n",
    "    def __init__(self, img_paths, transform):\n",
    "        self.img_paths = img_paths\n",
    "        self.transform = transform\n",
    "\n",
    "    def __getitem__(self, index):\n",
    "        image = Image.open(self.img_paths[index])\n",
    "\n",
    "        if self.transform:\n",
    "            image = self.transform(image)\n",
    "\n",
    "\n",
    "        return image\n",
    "\n",
    "    def __len__(self):\n",
    "        return len(self.img_paths)"
   ]
  },
  {
   "cell_type": "code",
   "execution_count": 77,
   "metadata": {},
   "outputs": [
    {
     "name": "stdout",
     "output_type": "stream",
     "text": [
      "test inference is done!\n"
     ]
    }
   ],
   "source": [
    "# meta 데이터와 이미지 경로를 불러옵니다.\n",
    "test_dir = '/opt/ml/input/data/eval'\n",
    "submission = pd.read_csv(os.path.join(test_dir, 'info.csv'))\n",
    "image_dir = os.path.join(test_dir, 'images')\n",
    "\n",
    "# Test Dataset 클래스 객체를 생성하고 DataLoader를 만듭니다.\n",
    "image_paths = [os.path.join(image_dir, img_id) for img_id in submission.ImageID]\n",
    "\n",
    "dataset = TestDataset(image_paths, data_transform)\n",
    "\n",
    "loader = DataLoader(\n",
    "    dataset,\n",
    "    shuffle=False\n",
    ")\n",
    "\n",
    "# 모델을 정의합니다. (학습한 모델이 있다면 torch.load로 모델을 불러주세요!)\n",
    "device = torch.device('cuda')\n",
    "test_model = model.to(device)\n",
    "test_model.eval()\n",
    "\n",
    "# 모델이 테스트 데이터셋을 예측하고 결과를 저장합니다.\n",
    "all_predictions = []\n",
    "for images in loader:\n",
    "    with torch.no_grad():\n",
    "        images = images.to(device)\n",
    "        output = test_model(images)\n",
    "\n",
    "        pred_mask = torch.argmax(output['mask'], dim=-1)\n",
    "        pred_gender = torch.argmax(output['gender'], dim=-1)\n",
    "        pred_age = torch.argmax(output['age'], dim=-1)\n",
    "        pred_class = (pred_mask * 6) + (pred_gender * 3) + (pred_age)\n",
    "\n",
    "        all_predictions.extend(pred_class.cpu().numpy())\n",
    "submission['ans'] = all_predictions\n",
    "\n",
    "# 제출할 파일을 저장합니다.\n",
    "submission.to_csv(os.path.join(test_dir, 'submission6.csv'), index=False)\n",
    "print('test inference is done!')"
   ]
  },
  {
   "cell_type": "code",
   "execution_count": null,
   "metadata": {},
   "outputs": [],
   "source": []
  }
 ],
 "metadata": {
  "interpreter": {
   "hash": "d4d1e4263499bec80672ea0156c357c1ee493ec2b1c70f0acce89fc37c4a6abe"
  },
  "kernelspec": {
   "display_name": "Python 3.8.5 ('base')",
   "language": "python",
   "name": "python3"
  },
  "language_info": {
   "codemirror_mode": {
    "name": "ipython",
    "version": 3
   },
   "file_extension": ".py",
   "mimetype": "text/x-python",
   "name": "python",
   "nbconvert_exporter": "python",
   "pygments_lexer": "ipython3",
   "version": "3.8.5"
  },
  "orig_nbformat": 4
 },
 "nbformat": 4,
 "nbformat_minor": 2
}
