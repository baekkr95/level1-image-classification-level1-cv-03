{
 "cells": [
  {
   "cell_type": "markdown",
   "metadata": {},
   "source": [
    "## Multi Label(Head, Branch) Classifier\n",
    "- 하나의 Convolution 모델에서 3개의 FC Layer 브랜치를 만들어보자"
   ]
  },
  {
   "cell_type": "code",
   "execution_count": 1,
   "metadata": {},
   "outputs": [
    {
     "name": "stdout",
     "output_type": "stream",
     "text": [
      "cuda\n"
     ]
    }
   ],
   "source": [
    "import os\n",
    "import pandas as pd\n",
    "import numpy as np\n",
    "from PIL import Image\n",
    "import matplotlib.pyplot as plt \n",
    "\n",
    "import torch\n",
    "import torch.nn as nn\n",
    "import torchvision\n",
    "import torch.nn.functional as F\n",
    "from torch.utils.data import Dataset, DataLoader\n",
    "from torchvision import transforms\n",
    "\n",
    "device = torch.device('cuda' if torch.cuda.is_available() else 'cpu')\n",
    "print(device)\n"
   ]
  },
  {
   "cell_type": "markdown",
   "metadata": {},
   "source": [
    "- 기존 데이터셋 (train_df)\n",
    "- 기존 데이터셋에서 데이터 개수가 부족한 클래스들에 대해 albumentation 데이터를 추가 (aug_df)\n",
    "- train_df와 aug_df 를 합쳐서 데이터 불균형을 어느정도 해소하는 것이 목표"
   ]
  },
  {
   "cell_type": "code",
   "execution_count": 2,
   "metadata": {},
   "outputs": [
    {
     "name": "stdout",
     "output_type": "stream",
     "text": [
      "41289\n"
     ]
    }
   ],
   "source": [
    "train_df = pd.read_csv('train_label.csv')\n",
    "aug_df = pd.read_csv('augment.csv')\n",
    "aug_df2 = pd.read_csv('augment2.csv') # 2/27 추가\n",
    "aug_df3 = pd.read_csv('augment3.csv') # 2/27 추가\n",
    "\n",
    "concat_df = pd.concat([train_df,aug_df], ignore_index=True)\n",
    "concat_df2 = pd.concat([concat_df,aug_df2], ignore_index=True)\n",
    "\n",
    "\n",
    "df = pd.concat([concat_df2,aug_df3], ignore_index=True) # 최종 df\n",
    "\n",
    "\n",
    "print(len(df))\n",
    "\n",
    "# wear, incorrect, normal 3가지 클래스로 변경\n",
    "# 0~5, 6~11, 12~17끼리 묶는다\n",
    "df_mask = df.copy()\n",
    "\n",
    "def mask_label(x):\n",
    "    if x in [0,1,2,3,4,5]:\n",
    "        return 0    # wear\n",
    "    elif x in [6,7,8,9,10,11]:\n",
    "        return 1    # incorrect\n",
    "    else:\n",
    "        return 2    # not wear\n",
    "\n",
    "df_mask['label'] = df_mask['label'].apply(mask_label)\n",
    "\n",
    "# 남성, 여성 2가지 클래스로 변경\n",
    "# [0,1,2,6,7,8,12,13,14], [3,4,5,9,10,11,15,16,17]\n",
    "df_gender = df.copy()\n",
    "\n",
    "def gender_label(x):\n",
    "    if x in [0,1,2,6,7,8,12,13,14]:\n",
    "        return 0    # male\n",
    "    else:\n",
    "        return 1    # female\n",
    "\n",
    "df_gender['label'] = df_gender['label'].apply(gender_label)\n",
    "\n",
    "# 청년, 중년, 장년 3가지 클래스로 변경\n",
    "# [0,3,6,9,12,15], [1,4,7,10,13,16], [2,5,8,11,14,17]\n",
    "df_age = df.copy()\n",
    "\n",
    "def age_label(x):\n",
    "    if x in [0,3,6,9,12,15]:\n",
    "        return 0    # young\n",
    "    elif x in [1,4,7,10,13,16]:\n",
    "        return 1    # middle\n",
    "    else:\n",
    "        return 2    # old\n",
    "\n",
    "df_age['label'] = df_age['label'].apply(age_label)\n"
   ]
  },
  {
   "cell_type": "code",
   "execution_count": 3,
   "metadata": {},
   "outputs": [
    {
     "data": {
      "image/png": "[encoded data removed]",
      "text/plain": [
       "<Figure size 576x360 with 1 Axes>"
      ]
     },
     "metadata": {
      "needs_background": "light"
     },
     "output_type": "display_data"
    }
   ],
   "source": [
    "import seaborn as sns\n",
    "plt.figure(figsize=(8,5))\n",
    "sns.countplot(data=df, x='label', order = df['label'].value_counts().index)\n",
    "plt.show()"
   ]
  },
  {
   "cell_type": "markdown",
   "metadata": {},
   "source": [
    "### Dataset  정의\n",
    "- mask, gender, age 별로 label 나눔"
   ]
  },
  {
   "cell_type": "code",
   "execution_count": 4,
   "metadata": {},
   "outputs": [],
   "source": [
    "class MultiBranchDataset(Dataset):\n",
    "    def __init__(self, df, df_mask, df_gender, df_age, transforms):\n",
    "        self.df = df\n",
    "        self.image_data = self.df['path']   # x data, 이미지\n",
    "        self.image_label = self.df['label'] # y data, 레이블\n",
    "\n",
    "        self.mask_label = df_mask['label']\n",
    "        self.gender_label = df_gender['label']\n",
    "        self.age_label = df_age['label']\n",
    "\n",
    "        self.transform = transforms\n",
    "\n",
    "    def __len__(self):\n",
    "        return len(self.df)\n",
    "\n",
    "    def __getitem__(self, idx):\n",
    "\n",
    "        img_path = self.df['path'].iloc[idx]\n",
    "        img = Image.open(img_path)\n",
    "\n",
    "        if self.transform:\n",
    "            img = self.transform(img)\n",
    "        \n",
    "        dict_label = {\n",
    "            'class' : self.image_label[idx],\n",
    "            'mask' : self.mask_label[idx],\n",
    "            'gender' : self.gender_label[idx],\n",
    "            'age' : self.age_label[idx]\n",
    "        }\n",
    "\n",
    "        return img, dict_label"
   ]
  },
  {
   "cell_type": "code",
   "execution_count": 61,
   "metadata": {},
   "outputs": [
    {
     "name": "stdout",
     "output_type": "stream",
     "text": [
      "(14175, 3) (4725, 3)\n"
     ]
    }
   ],
   "source": [
    "# # 데이터셋 준비\n",
    "# df = pd.read_csv('train_label.csv')\n",
    "# df_mask = pd.read_csv('df_mask.csv')\n",
    "# df_gender = pd.read_csv('df_gender.csv')\n",
    "# df_age = pd.read_csv('df_age.csv')"
   ]
  },
  {
   "cell_type": "markdown",
   "metadata": {},
   "source": [
    "#### Transform & Dataset\n",
    "- 모든 데이터를 한방에 학습할 때와\n",
    "- train과 valid를 split할 때의 코드가 다름 (train, valid를 쪼갠거와 동일한 mask, gender, age 레이블링이 필요함)"
   ]
  },
  {
   "cell_type": "code",
   "execution_count": 5,
   "metadata": {},
   "outputs": [],
   "source": [
    "# Transform Compose\n",
    "data_transform = torchvision.transforms.Compose([\n",
    "    transforms.CenterCrop(350),\n",
    "    # torchvision.transforms.Resize((350,350),Image.BILINEAR),\n",
    "    torchvision.transforms.ToTensor(),\n",
    "    torchvision.transforms.Normalize(mean=(0.5,0.5,0.5), std=(0.2,0.2,0.2)),\n",
    "])\n",
    "\n",
    "# train data 한방에 학습시키는 경우\n",
    "train_dataset = MultiBranchDataset(df, df_mask, df_gender, df_age, data_transform)\n",
    "\n"
   ]
  },
  {
   "cell_type": "code",
   "execution_count": 12,
   "metadata": {},
   "outputs": [
    {
     "name": "stdout",
     "output_type": "stream",
     "text": [
      "(26646, 3) (8883, 3)\n"
     ]
    }
   ],
   "source": [
    "# 데이터를 split할 경우, 기존 데이터(train, valid)와 이에 해당하는 mask, age, gender 레이블을 모두 맞춰야함\n",
    "from sklearn.model_selection import train_test_split\n",
    "train, valid = train_test_split(df, test_size = 0.25, shuffle=True, stratify=df['label'], random_state=1234)\n",
    "print(train.shape, valid.shape)\n",
    "\n",
    "train_ind = train.index.tolist()\n",
    "valid_ind = valid.index.tolist()\n",
    "\n",
    "train_df_mask = df_mask.loc[train_ind]\n",
    "valid_df_mask = df_mask.loc[valid_ind]\n",
    "\n",
    "train_df_gender = df_gender.loc[train_ind]\n",
    "valid_df_gender = df_gender.loc[valid_ind]\n",
    "\n",
    "train_df_age = df_age.loc[train_ind]\n",
    "valid_df_age = df_age.loc[valid_ind]\n"
   ]
  },
  {
   "cell_type": "markdown",
   "metadata": {},
   "source": [
    "### DataLoader\n",
    "- 여기서 3개로 나눌 필요가 없음\n",
    "- 모델 train에서 loss를 따로 나눌 것임"
   ]
  },
  {
   "cell_type": "code",
   "execution_count": 6,
   "metadata": {},
   "outputs": [],
   "source": [
    "batch_size = 128\n",
    "train_dataloader = DataLoader(train_dataset, batch_size=batch_size, shuffle=True)\n"
   ]
  },
  {
   "cell_type": "markdown",
   "metadata": {},
   "source": [
    "데이터로더의 label 부분을 보면 mask, gender, age별로 배치사이즈에 맞게 레이블 정보가 담아짐"
   ]
  },
  {
   "cell_type": "code",
   "execution_count": 7,
   "metadata": {},
   "outputs": [
    {
     "data": {
      "text/plain": [
       "{'class': tensor([ 5,  0, 16,  2, 10, 16,  1,  3, 11,  3,  6,  0,  3, 15, 14, 14,  8, 16,\n",
       "          6,  9,  8,  7,  2, 14, 17,  4, 10,  0, 16,  4, 16,  8,  1,  5,  4,  1,\n",
       "          1,  0,  5,  1,  9, 16, 12,  7, 17, 17, 13, 15, 12,  9,  3,  3,  5, 15,\n",
       "         13, 16,  1,  5,  5,  7, 15, 15,  4,  3, 10,  2,  3, 13, 15, 12,  1, 17,\n",
       "         12,  5,  3, 11, 16, 13,  4, 11, 15,  5, 15,  9,  2,  1, 10,  3,  8,  4,\n",
       "          3, 10, 15,  3, 14,  5, 15, 15, 16,  8,  3,  2,  5,  9,  6,  3,  9, 14,\n",
       "         14,  4, 16,  5, 15,  9, 15,  5, 15, 10,  7,  6, 17,  6, 10,  3, 16, 15,\n",
       "          9, 15]),\n",
       " 'mask': tensor([0, 0, 2, 0, 1, 2, 0, 0, 1, 0, 1, 0, 0, 2, 2, 2, 1, 2, 1, 1, 1, 1, 0, 2,\n",
       "         2, 0, 1, 0, 2, 0, 2, 1, 0, 0, 0, 0, 0, 0, 0, 0, 1, 2, 2, 1, 2, 2, 2, 2,\n",
       "         2, 1, 0, 0, 0, 2, 2, 2, 0, 0, 0, 1, 2, 2, 0, 0, 1, 0, 0, 2, 2, 2, 0, 2,\n",
       "         2, 0, 0, 1, 2, 2, 0, 1, 2, 0, 2, 1, 0, 0, 1, 0, 1, 0, 0, 1, 2, 0, 2, 0,\n",
       "         2, 2, 2, 1, 0, 0, 0, 1, 1, 0, 1, 2, 2, 0, 2, 0, 2, 1, 2, 0, 2, 1, 1, 1,\n",
       "         2, 1, 1, 0, 2, 2, 1, 2]),\n",
       " 'gender': tensor([1, 0, 1, 0, 1, 1, 0, 1, 1, 1, 0, 0, 1, 1, 0, 0, 0, 1, 0, 1, 0, 0, 0, 0,\n",
       "         1, 1, 1, 0, 1, 1, 1, 0, 0, 1, 1, 0, 0, 0, 1, 0, 1, 1, 0, 0, 1, 1, 0, 1,\n",
       "         0, 1, 1, 1, 1, 1, 0, 1, 0, 1, 1, 0, 1, 1, 1, 1, 1, 0, 1, 0, 1, 0, 0, 1,\n",
       "         0, 1, 1, 1, 1, 0, 1, 1, 1, 1, 1, 1, 0, 0, 1, 1, 0, 1, 1, 1, 1, 1, 0, 1,\n",
       "         1, 1, 1, 0, 1, 0, 1, 1, 0, 1, 1, 0, 0, 1, 1, 1, 1, 1, 1, 1, 1, 1, 0, 0,\n",
       "         1, 0, 1, 1, 1, 1, 1, 1]),\n",
       " 'age': tensor([2, 0, 1, 2, 1, 1, 1, 0, 2, 0, 0, 0, 0, 0, 2, 2, 2, 1, 0, 0, 2, 1, 2, 2,\n",
       "         2, 1, 1, 0, 1, 1, 1, 2, 1, 2, 1, 1, 1, 0, 2, 1, 0, 1, 0, 1, 2, 2, 1, 0,\n",
       "         0, 0, 0, 0, 2, 0, 1, 1, 1, 2, 2, 1, 0, 0, 1, 0, 1, 2, 0, 1, 0, 0, 1, 2,\n",
       "         0, 2, 0, 2, 1, 1, 1, 2, 0, 2, 0, 0, 2, 1, 1, 0, 2, 1, 0, 1, 0, 0, 2, 2,\n",
       "         0, 0, 1, 2, 0, 2, 2, 0, 0, 0, 0, 2, 2, 1, 1, 2, 0, 0, 0, 2, 0, 1, 1, 0,\n",
       "         2, 0, 1, 0, 1, 0, 0, 0])}"
      ]
     },
     "execution_count": 7,
     "metadata": {},
     "output_type": "execute_result"
    }
   ],
   "source": [
    "next(iter(train_dataloader))[1]"
   ]
  },
  {
   "cell_type": "markdown",
   "metadata": {},
   "source": [
    "#### cutmix 함수"
   ]
  },
  {
   "cell_type": "code",
   "execution_count": 8,
   "metadata": {},
   "outputs": [],
   "source": [
    "import random\n",
    "# 랜덤 위치에서 패치 만들지 않고, 가로 세로로 절반만 자르는 함수\n",
    "def half_bbox(size, lam):\n",
    "    W = size[2]\n",
    "    H = size[3]\n",
    "\n",
    "    # 가로로 절반(왼쪽, 오른쪽), 세로로 절반(위쪽, 아랫쪽)\n",
    "    idx = random.randint(0,1)\n",
    "\n",
    "    bbx1 = [0, 0]\n",
    "    bby1 = [0, H//2]\n",
    "    \n",
    "    bbx2 = [W, W]\n",
    "    bby2 = [H//2, H]\n",
    "\n",
    "    return bbx1[idx], bby1[idx], bbx2[idx], bby2[idx]"
   ]
  },
  {
   "cell_type": "markdown",
   "metadata": {},
   "source": [
    "### Multi Label Classifier Model\n",
    "- Multi Sample Dropout"
   ]
  },
  {
   "cell_type": "code",
   "execution_count": 9,
   "metadata": {},
   "outputs": [],
   "source": [
    "class MultiBranchModel(nn.Module):\n",
    "    def __init__(self):\n",
    "        super().__init__()\n",
    "        \n",
    "        self.base_model = torchvision.models.resnet18(pretrained=True)\n",
    "        # classifier 전까지 사용\n",
    "        self.base_model = nn.Sequential(*list(self.base_model.children())[:-1])\n",
    "\n",
    "        self.mask = nn.Sequential(\n",
    "            nn.Dropout(p=0.2),\n",
    "            nn.Linear(512, 3, bias=True)\n",
    "        )\n",
    "        self.gender = nn.Sequential(\n",
    "            nn.Dropout(p=0.2),\n",
    "            nn.Linear(512, 2, bias=True)\n",
    "        )\n",
    "        self.age = nn.Sequential(\n",
    "            nn.Dropout(p=0.2),\n",
    "            nn.Linear(512, 3, bias=True)\n",
    "        )\n",
    "        \n",
    "\n",
    "    def forward(self, x):\n",
    "        x = self.base_model(x)\n",
    "        # print(x.shape)\n",
    "\n",
    "        x = torch.flatten(x, start_dim=1)\n",
    "        # print('22: ', x.shape)\n",
    "\n",
    "        return {\n",
    "            'mask': self.mask(x),\n",
    "            'gender': self.gender(x),\n",
    "            'age': self.age(x)\n",
    "        }\n",
    "\n",
    "    # Loss 함수 구현 부분\n",
    "    def get_loss(self, net_output, ground_truth):\n",
    "        mask_loss = F.cross_entropy(net_output['mask'], ground_truth['mask'].to(device))\n",
    "        gender_loss = F.cross_entropy(net_output['gender'], ground_truth['gender'].to(device))\n",
    "        age_loss = F.cross_entropy(net_output['age'], ground_truth['age'].to(device))\n",
    "\n",
    "        loss = mask_loss + gender_loss + age_loss\n",
    "\n",
    "        return loss #, {'mask' : mask_loss, 'gender' : gender_loss, 'age' : age_loss}"
   ]
  },
  {
   "cell_type": "code",
   "execution_count": 17,
   "metadata": {},
   "outputs": [],
   "source": [
    "model = MultiBranchModel()\n",
    "x = torch.ones((1,3,224,224))\n",
    "out = model.forward(x)"
   ]
  },
  {
   "cell_type": "markdown",
   "metadata": {},
   "source": [
    "## Train"
   ]
  },
  {
   "cell_type": "code",
   "execution_count": 11,
   "metadata": {},
   "outputs": [],
   "source": [
    "model = MultiBranchModel().to(device)\n",
    "\n",
    "LEARNING_RATE = 0.001\n",
    "NUM_EPOCH = 5\n",
    "optimizer = torch.optim.Adam(model.parameters(), lr=LEARNING_RATE)\n",
    "\n",
    "# Loss Function은 Model Class에서 구현함\n",
    "\n",
    "# model = torch.nn.DataParallel(model)\n"
   ]
  },
  {
   "cell_type": "code",
   "execution_count": null,
   "metadata": {},
   "outputs": [],
   "source": [
    "# moblienetv2\n",
    "# torchvision.models.mobilenet_v2(pretrained=True)"
   ]
  },
  {
   "cell_type": "markdown",
   "metadata": {},
   "source": [
    "#### 모든 데이터 Train만 진행"
   ]
  },
  {
   "cell_type": "code",
   "execution_count": 23,
   "metadata": {},
   "outputs": [
    {
     "name": "stdout",
     "output_type": "stream",
     "text": [
      "Epoch: 0, i: 0,Loss: 3.306540\n",
      "0번 배치: 3/64, 정확도: 0.046875\n",
      "Epoch: 0, i: 100,Loss: 0.271943\n",
      "100번 배치: 10959/6464, 정확도: 1.6953898668289185\n",
      "Epoch: 0, i: 200,Loss: 0.114967\n",
      "200번 배치: 22720/12864, 정확도: 1.7661690711975098\n",
      "Epoch: 0, i: 300,Loss: 0.121596\n",
      "300번 배치: 34808/19264, 정확도: 1.8068935871124268\n",
      "Final Accuracy : tensor(0.9101, device='cuda:0')\n",
      "Epoch: 1, i: 0,Loss: 0.072116\n",
      "0번 배치: 125/64, 정확도: 1.953125\n",
      "Epoch: 1, i: 100,Loss: 0.057322\n",
      "100번 배치: 12563/6464, 정확도: 1.9435334205627441\n",
      "Epoch: 1, i: 200,Loss: 0.214528\n",
      "200번 배치: 24997/12864, 정확도: 1.9431747198104858\n",
      "Epoch: 1, i: 300,Loss: 0.043553\n",
      "300번 배치: 37391/19264, 정확도: 1.940977931022644\n",
      "Final Accuracy : tensor(0.9699, device='cuda:0')\n",
      "Epoch: 2, i: 0,Loss: 0.046657\n",
      "0번 배치: 127/64, 정확도: 1.984375\n",
      "Epoch: 2, i: 100,Loss: 0.021976\n",
      "100번 배치: 12713/6464, 정확도: 1.9667388200759888\n",
      "Epoch: 2, i: 200,Loss: 0.018715\n",
      "200번 배치: 25320/12864, 정확도: 1.9682835340499878\n",
      "Epoch: 2, i: 300,Loss: 0.047603\n",
      "300번 배치: 37976/19264, 정확도: 1.9713454246520996\n",
      "Final Accuracy : tensor(0.9857, device='cuda:0')\n",
      "Epoch: 3, i: 0,Loss: 0.007535\n",
      "0번 배치: 128/64, 정확도: 2.0\n",
      "Epoch: 3, i: 100,Loss: 0.021913\n",
      "100번 배치: 12810/6464, 정확도: 1.9817450046539307\n",
      "Epoch: 3, i: 200,Loss: 0.043529\n",
      "200번 배치: 25434/12864, 정확도: 1.9771454334259033\n",
      "Epoch: 3, i: 300,Loss: 0.031208\n",
      "300번 배치: 38049/19264, 정확도: 1.9751349687576294\n",
      "Final Accuracy : tensor(0.9877, device='cuda:0')\n",
      "Epoch: 4, i: 0,Loss: 0.015592\n",
      "0번 배치: 128/64, 정확도: 2.0\n",
      "Epoch: 4, i: 100,Loss: 0.016797\n",
      "100번 배치: 12797/6464, 정확도: 1.9797338247299194\n",
      "Epoch: 4, i: 200,Loss: 0.014732\n",
      "200번 배치: 25475/12864, 정확도: 1.980332612991333\n",
      "Epoch: 4, i: 300,Loss: 0.009103\n",
      "300번 배치: 38192/19264, 정확도: 1.9825581312179565\n",
      "Final Accuracy : tensor(0.9910, device='cuda:0')\n"
     ]
    }
   ],
   "source": [
    "\n",
    "for epoch in range(NUM_EPOCH):\n",
    "    running_acc = 0\n",
    "    total_loss = 0\n",
    "    for i, (images, labels) in enumerate(train_dataloader):\n",
    "\n",
    "        images = images.to(device)\n",
    "        labels = labels # dict타입이라서 get_loss 함수 안에서 따로 cuda로 올림\n",
    "\n",
    "        optimizer.zero_grad()\n",
    "\n",
    "        output = model(images)\n",
    "\n",
    "\n",
    "        pred_mask = torch.argmax(output['mask'], dim=-1)\n",
    "        pred_gender = torch.argmax(output['gender'], dim=-1)\n",
    "        pred_age = torch.argmax(output['age'], dim=-1)\n",
    "        pred_class = (pred_mask * 6) + (pred_gender * 3) + (pred_age)\n",
    "\n",
    "        loss_train = model.get_loss(output, labels)\n",
    "        total_loss += loss_train.item()\n",
    "\n",
    "        loss_train.backward()       # gradient를 계산\n",
    "        optimizer.step()      # gradient descent\n",
    "    \n",
    "\n",
    "        running_acc += torch.sum(pred_class == labels['class'].to(device))\n",
    "\n",
    "    \n",
    "        if i % 100 == 0:\n",
    "            print('Epoch: {}, i: {},Loss: {:.6f}'.format(epoch, i, loss_train.item()))\n",
    "            print(f'{i}번 배치: {running_acc}/{(i+1)*batch_size}, 정확도: {running_acc/((i+1)*64)}')\n",
    "    \n",
    "    epoch_acc = running_acc / len(train_dataloader.dataset)\n",
    "    print('Final Accuracy :', epoch_acc)\n"
   ]
  },
  {
   "cell_type": "markdown",
   "metadata": {},
   "source": [
    "### cutmix 추가한 모델"
   ]
  },
  {
   "cell_type": "code",
   "execution_count": 12,
   "metadata": {},
   "outputs": [
    {
     "name": "stdout",
     "output_type": "stream",
     "text": [
      "Epoch: 0, i: 0,Loss: 3.317724\n",
      "0번 배치: 6/128, 정확도: 0.046875\n",
      "Epoch: 0, i: 100,Loss: 1.708813\n",
      "100번 배치: 7498/12928, 정확도: 0.5799814462661743\n",
      "Epoch: 0, i: 200,Loss: 0.279735\n",
      "200번 배치: 15662/25728, 정확도: 0.6087530851364136\n",
      "Epoch: 0, i: 300,Loss: 1.504243\n",
      "300번 배치: 23803/38528, 정확도: 0.6178104281425476\n",
      "Final Accuracy : tensor(0.6231, device='cuda:0')\n",
      "Epoch: 1, i: 0,Loss: 1.546771\n",
      "0번 배치: 43/128, 정확도: 0.3359375\n",
      "Epoch: 1, i: 100,Loss: 1.486984\n",
      "100번 배치: 8013/12928, 정확도: 0.6198174357414246\n",
      "Epoch: 1, i: 200,Loss: 0.107381\n",
      "200번 배치: 16378/25728, 정확도: 0.6365826725959778\n",
      "Epoch: 1, i: 300,Loss: 1.466144\n",
      "300번 배치: 24623/38528, 정확도: 0.6390936374664307\n",
      "Final Accuracy : tensor(0.6404, device='cuda:0')\n",
      "Epoch: 2, i: 0,Loss: 0.146239\n",
      "0번 배치: 121/128, 정확도: 0.9453125\n",
      "Epoch: 2, i: 100,Loss: 1.627552\n",
      "100번 배치: 8618/12928, 정확도: 0.6666150689125061\n",
      "Epoch: 2, i: 200,Loss: 0.102581\n",
      "200번 배치: 16509/25728, 정확도: 0.6416743993759155\n",
      "Epoch: 2, i: 300,Loss: 1.465384\n",
      "300번 배치: 24914/38528, 정확도: 0.6466465592384338\n",
      "Final Accuracy : tensor(0.6421, device='cuda:0')\n",
      "Epoch: 3, i: 0,Loss: 0.025974\n",
      "0번 배치: 127/128, 정확도: 0.9921875\n",
      "Epoch: 3, i: 100,Loss: 0.043664\n",
      "100번 배치: 8467/12928, 정확도: 0.6549350023269653\n",
      "Epoch: 3, i: 200,Loss: 0.022472\n",
      "200번 배치: 16109/25728, 정확도: 0.6261271834373474\n",
      "Epoch: 3, i: 300,Loss: 1.469295\n",
      "300번 배치: 24728/38528, 정확도: 0.6418189406394958\n",
      "Final Accuracy : tensor(0.6471, device='cuda:0')\n",
      "Epoch: 4, i: 0,Loss: 1.490273\n",
      "0번 배치: 42/128, 정확도: 0.328125\n",
      "Epoch: 4, i: 100,Loss: 0.032714\n",
      "100번 배치: 8324/12928, 정확도: 0.6438737511634827\n",
      "Epoch: 4, i: 200,Loss: 0.010757\n",
      "200번 배치: 17644/25728, 정확도: 0.6857897639274597\n",
      "Epoch: 4, i: 300,Loss: 1.437591\n",
      "300번 배치: 26080/38528, 정확도: 0.6769102811813354\n",
      "Final Accuracy : tensor(0.6729, device='cuda:0')\n"
     ]
    }
   ],
   "source": [
    "\n",
    "for epoch in range(NUM_EPOCH):\n",
    "    running_acc = 0\n",
    "    total_loss = 0\n",
    "    for i, (images, labels) in enumerate(train_dataloader):\n",
    "\n",
    "        images = images.to(device)\n",
    "        labels = labels # dict타입이라서 get_loss 함수 안에서 따로 cuda로 올림\n",
    "\n",
    "        optimizer.zero_grad()\n",
    "\n",
    "        ### cutmix\n",
    "        r = np.random.rand(1)\n",
    "        if r <= 0.5:\n",
    "            lam = 1/2\n",
    "            rand_index = torch.randperm(images.size()[0])\n",
    "            target_a = labels\n",
    "\n",
    "            # mask, gender, age 별로 labels[rand_index] 만들고 다시 합쳐서 get_loss에 넣어준다?\n",
    "            # target_b = labels[rand_index]\n",
    "            target_mask = labels['mask'][rand_index]\n",
    "            target_gender = labels['gender'][rand_index]\n",
    "            target_age = labels['age'][rand_index]\n",
    "\n",
    "            target_b = {'mask' : target_mask, 'gender' : target_gender, 'age' : target_age}\n",
    "            bbx1, bby1, bbx2, bby2 = half_bbox(images.size(), lam)\n",
    "            images[:, :, bbx1:bbx2, bby1:bby2] = images[rand_index, :, bbx1:bbx2, bby1:bby2]\n",
    "\n",
    "\n",
    "            output = model(images)\n",
    "\n",
    "            pred_mask = torch.argmax(output['mask'], dim=-1)\n",
    "            pred_gender = torch.argmax(output['gender'], dim=-1)\n",
    "            pred_age = torch.argmax(output['age'], dim=-1)\n",
    "            pred_class = (pred_mask * 6) + (pred_gender * 3) + (pred_age)\n",
    "\n",
    "            loss_train = model.get_loss(output, target_a) * lam + model.get_loss(output, target_b) * (1. - lam)\n",
    "            total_loss += loss_train.item()\n",
    "\n",
    "            loss_train.backward()       # gradient를 계산\n",
    "            optimizer.step()      # gradient descent\n",
    "        \n",
    "        else:\n",
    "            output = model(images)\n",
    "\n",
    "            pred_mask = torch.argmax(output['mask'], dim=-1)\n",
    "            pred_gender = torch.argmax(output['gender'], dim=-1)\n",
    "            pred_age = torch.argmax(output['age'], dim=-1)\n",
    "            pred_class = (pred_mask * 6) + (pred_gender * 3) + (pred_age)\n",
    "\n",
    "            loss_train = model.get_loss(output, labels)\n",
    "            total_loss += loss_train.item()\n",
    "\n",
    "            loss_train.backward()       # gradient를 계산\n",
    "            optimizer.step()      # gradient descent\n",
    "\n",
    "\n",
    "        running_acc += torch.sum(pred_class == labels['class'].to(device))\n",
    "\n",
    "    \n",
    "        if i % 100 == 0:\n",
    "            print('Epoch: {}, i: {},Loss: {:.6f}'.format(epoch, i, loss_train.item()))\n",
    "            print(f'{i}번 배치: {running_acc}/{(i+1)*batch_size}, 정확도: {running_acc/((i+1)*batch_size)}')\n",
    "    \n",
    "    epoch_acc = running_acc / len(train_dataloader.dataset)\n",
    "    print('Final Accuracy :', epoch_acc)\n"
   ]
  },
  {
   "cell_type": "markdown",
   "metadata": {},
   "source": [
    "---\n",
    "### 테스트(Evaluation) 중, mask, gender, age별 output 뽑아내기\n",
    "- 최종 클래스 예측(18개)으로 변환\n",
    "- mask : 0, 1, 2 (wear, incorrect, not wear)\n",
    "- gender : 0, 1  (male, female)\n",
    "- age : 0, 1, 2  (young, middle, old)\n",
    "- class : (mask * 6) + (gender * 3) + (age)"
   ]
  },
  {
   "cell_type": "markdown",
   "metadata": {},
   "source": [
    "## Testing"
   ]
  },
  {
   "cell_type": "code",
   "execution_count": 14,
   "metadata": {},
   "outputs": [],
   "source": [
    "class TestDataset(Dataset):\n",
    "    def __init__(self, img_paths, transform):\n",
    "        self.img_paths = img_paths\n",
    "        self.transform = transform\n",
    "\n",
    "    def __getitem__(self, index):\n",
    "        image = Image.open(self.img_paths[index])\n",
    "\n",
    "        if self.transform:\n",
    "            image = self.transform(image)\n",
    "\n",
    "\n",
    "        return image\n",
    "\n",
    "    def __len__(self):\n",
    "        return len(self.img_paths)"
   ]
  },
  {
   "cell_type": "code",
   "execution_count": 15,
   "metadata": {},
   "outputs": [
    {
     "name": "stdout",
     "output_type": "stream",
     "text": [
      "test inference is done!\n"
     ]
    }
   ],
   "source": [
    "# meta 데이터와 이미지 경로를 불러옵니다.\n",
    "test_dir = '/opt/ml/input/data/eval'\n",
    "submission = pd.read_csv(os.path.join(test_dir, 'info.csv'))\n",
    "image_dir = os.path.join(test_dir, 'images')\n",
    "\n",
    "# Test Dataset 클래스 객체를 생성하고 DataLoader를 만듭니다.\n",
    "image_paths = [os.path.join(image_dir, img_id) for img_id in submission.ImageID]\n",
    "\n",
    "dataset = TestDataset(image_paths, data_transform)\n",
    "\n",
    "loader = DataLoader(\n",
    "    dataset,\n",
    "    shuffle=False\n",
    ")\n",
    "\n",
    "# 모델을 정의합니다. (학습한 모델이 있다면 torch.load로 모델을 불러주세요!)\n",
    "device = torch.device('cuda')\n",
    "test_model = model.to(device)\n",
    "test_model.eval()\n",
    "\n",
    "# 모델이 테스트 데이터셋을 예측하고 결과를 저장합니다.\n",
    "all_predictions = []\n",
    "for images in loader:\n",
    "    with torch.no_grad():\n",
    "        images = images.to(device)\n",
    "        output = test_model(images)\n",
    "\n",
    "        pred_mask = torch.argmax(output['mask'], dim=-1)\n",
    "        pred_gender = torch.argmax(output['gender'], dim=-1)\n",
    "        pred_age = torch.argmax(output['age'], dim=-1)\n",
    "        pred_class = (pred_mask * 6) + (pred_gender * 3) + (pred_age)\n",
    "\n",
    "        all_predictions.extend(pred_class.cpu().numpy())\n",
    "submission['ans'] = all_predictions\n",
    "\n",
    "# 제출할 파일을 저장합니다.\n",
    "submission.to_csv(os.path.join(test_dir, 'submission11.csv'), index=False)\n",
    "print('test inference is done!')"
   ]
  },
  {
   "cell_type": "code",
   "execution_count": null,
   "metadata": {},
   "outputs": [],
   "source": []
  }
 ],
 "metadata": {
  "interpreter": {
   "hash": "d4d1e4263499bec80672ea0156c357c1ee493ec2b1c70f0acce89fc37c4a6abe"
  },
  "kernelspec": {
   "display_name": "Python 3.8.5 ('base')",
   "language": "python",
   "name": "python3"
  },
  "language_info": {
   "codemirror_mode": {
    "name": "ipython",
    "version": 3
   },
   "file_extension": ".py",
   "mimetype": "text/x-python",
   "name": "python",
   "nbconvert_exporter": "python",
   "pygments_lexer": "ipython3",
   "version": "3.8.5"
  },
  "orig_nbformat": 4
 },
 "nbformat": 4,
 "nbformat_minor": 2
}
