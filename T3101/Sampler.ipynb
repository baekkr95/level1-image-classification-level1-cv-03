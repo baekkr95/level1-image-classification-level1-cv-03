{
 "cells": [
  {
   "cell_type": "markdown",
   "metadata": {},
   "source": [
    "## Imbalanced Dataset 해결을 위한 Sampler 기법들\n",
    "\n",
    "1. `WeightedRandomSampler`\n",
    "2. `ImbalancedDatasetSampler`\n",
    "\n",
    "현재 2가지 방법을 찾았고, 둘 다 데이터로더에서 sample 옵션에 사용됩니다.  \n",
    "sampler를 적용하면, 일반적으로 shuffle 옵션은 사용하지 않는 것 같습니다."
   ]
  },
  {
   "cell_type": "markdown",
   "metadata": {},
   "source": [
    "### WeightedRandomSampler\n",
    "- 클래스의 불균형 정도에 비례해서 값을 넣습니다."
   ]
  },
  {
   "cell_type": "code",
   "execution_count": null,
   "metadata": {},
   "outputs": [],
   "source": [
    "# train\n",
    "labels_unique, counts = np.unique(train['label'], return_counts=True)\n",
    "class_weights = [sum(counts) / c for c in counts]\n",
    "example_weights = [class_weights[e] for e in train['label']]\n",
    "train_sampler = WeightedRandomSampler(example_weights, len(train['label']))\n",
    "\n",
    "# train_dataloader = DataLoader(train_dataset, batch_size=64, sampler=train_sampler)\n",
    "\n",
    "\n",
    "# valid\n",
    "labels_unique, counts = np.unique(valid['label'], return_counts=True)\n",
    "class_weights = [sum(counts) / c for c in counts]\n",
    "example_weights = [class_weights[e] for e in valid['label']]\n",
    "valid_sampler = WeightedRandomSampler(example_weights, len(valid['label']))\n",
    "\n",
    "# valid_dataloader = DataLoader(valid_dataset, batch_size=64, sampler=valid_sampler)\n"
   ]
  },
  {
   "cell_type": "markdown",
   "metadata": {},
   "source": [
    "### ImbalancedDatasetSampler\n",
    "- 공식 문서 : https://github.com/ufoym/imbalanced-dataset-sampler"
   ]
  },
  {
   "cell_type": "code",
   "execution_count": null,
   "metadata": {},
   "outputs": [],
   "source": [
    "from torchsampler import ImbalancedDatasetSampler\n",
    "\n",
    "train_loader = torch.utils.data.DataLoader(\n",
    "    train_dataset,\n",
    "    sampler=ImbalancedDatasetSampler(train_dataset),\n",
    "    batch_size=args.batch_size,\n",
    "    **kwargs\n",
    ")"
   ]
  }
 ],
 "metadata": {
  "language_info": {
   "name": "python"
  },
  "orig_nbformat": 4
 },
 "nbformat": 4,
 "nbformat_minor": 2
}
