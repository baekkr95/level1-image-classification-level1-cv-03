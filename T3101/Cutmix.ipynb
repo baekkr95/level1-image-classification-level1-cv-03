{
 "cells": [
  {
   "cell_type": "markdown",
   "metadata": {},
   "source": [
    "## Cutmix 구현 코드\n",
    "- 기존 이미지에 새로운 이미지를 잘라서 붙이는 방법입니다.\n",
    "- cutmix를 사용하는 방법은,\n",
    "- 이미지 데이터셋이 데이터로더를 통과하고 배치단위로 형성된 다음에, 학습에 들어가면서 cutmix를 적용하는 것 같습니다.\n",
    "- 따라서 부족한 클래스들에 대해서 미리 데이터들을 많이 복사 또는 생성하면 좋을 듯 합니다.  \n",
    "\n",
    "  \n",
    "> 2가지 방법이 있습니다.\n",
    "> 1. 랜덤한 위치에 새로운 이미지를 붙이는 방법 : `def rand_bbox()`\n",
    "> 2. 가로 또는 세로로 절반을 잘라서 새로운 이미지를 붙이는 방법 : `def half_bbox()`\n",
    "\n",
    "\n",
    "자세한 내용을 보려면 Cutmix 공식 document를 보면 됩니다.(train.py 확인)    \n",
    "https://github.com/clovaai/CutMix-PyTorch/tree/2d8eb68faff7fe4962776ad51d175c3b01a25734"
   ]
  },
  {
   "cell_type": "code",
   "execution_count": null,
   "metadata": {},
   "outputs": [],
   "source": [
    "# 1. 랜덤한 위치\n",
    "def rand_bbox(size, lam): # size : [B, C, W, H]\n",
    "    W = size[2] # 이미지의 width\n",
    "    H = size[3] # 이미지의 height\n",
    "    cut_rat = np.sqrt(1. - lam)  # 패치 크기의 비율 정하기\n",
    "    cut_w = int(W * cut_rat)  # 패치의 너비\n",
    "    cut_h = int(H * cut_rat)  # 패치의 높이\n",
    "\n",
    "    # uniform\n",
    "    # 기존 이미지의 크기에서 랜덤하게 값을 가져옵니다.(중간 좌표 추출)\n",
    "    cx = np.random.randint(W)\n",
    "    cy = np.random.randint(H)\n",
    "\n",
    "    # 패치 부분에 대한 좌표값을 추출합니다.\n",
    "    bbx1 = np.clip(cx - cut_w // 2, 0, W)\n",
    "    bby1 = np.clip(cy - cut_h // 2, 0, H)\n",
    "    bbx2 = np.clip(cx + cut_w // 2, 0, W)\n",
    "    bby2 = np.clip(cy + cut_h // 2, 0, H)\n",
    "\n",
    "    return bbx1, bby1, bbx2, bby2"
   ]
  },
  {
   "cell_type": "code",
   "execution_count": null,
   "metadata": {},
   "outputs": [],
   "source": [
    "# 2. 이미지의 절반을 자르는 함수\n",
    "def half_bbox(size, lam):\n",
    "    W = size[2]\n",
    "    H = size[3]\n",
    "\n",
    "    # 가로로 절반(왼쪽, 오른쪽), 세로로 절반(위쪽, 아랫쪽)\n",
    "    idx = random.randint(0,3)\n",
    "\n",
    "    bbx1 = [0, W//2, 0, 0]\n",
    "    bby1 = [0, 0, 0, H//2]\n",
    "    \n",
    "    bbx2 = [W//2, W, W, W]\n",
    "    bby2 = [H, H, H//2, H]\n",
    "\n",
    "    return bbx1[idx], bby1[idx], bbx2[idx], bby2[idx]\n",
    "    "
   ]
  },
  {
   "cell_type": "markdown",
   "metadata": {},
   "source": [
    "저희가 갖고 있는 데이터셋 이름을 `new_df`라 가정하고 코딩을 하면,  \n",
    "아래 코드 처럼 Dataset과 DataLoader를 먼저 통과를 합니다."
   ]
  },
  {
   "cell_type": "code",
   "execution_count": null,
   "metadata": {},
   "outputs": [],
   "source": [
    "# cutmix_dataset = CustomDataset(new_df, transforms=data_transform)\n",
    "# cutmix_dataloader = DataLoader(cutmix_dataset, batch_size=32, shuffle=True)"
   ]
  },
  {
   "cell_type": "markdown",
   "metadata": {},
   "source": [
    "`lam`(lambda)가 이미지의 어느정도를 자를지를 결정하는 파라미터 입니다.  \n",
    "이미지를 절반으로 자를 경우, `lam`값이 1/2가 됩니다."
   ]
  },
  {
   "cell_type": "code",
   "execution_count": null,
   "metadata": {},
   "outputs": [],
   "source": [
    "X, y = next(iter(cutmix_dataloader))\n",
    "\n",
    "lam = np.random.beta(1.0, 1.0)\n",
    "rand_index = torch.randperm(X.size()[0]) # 32개, 1개씩 랜덤하게 가져옴\n",
    "shuffled_y = y[rand_index]\n",
    "\n",
    "# 2가지 함수 중, 하나를 선택\n",
    "# bbx1, bby1, bbx2, bby2 = rand_bbox(X.size(), lam)\n",
    "bbx1, bby1, bbx2, bby2 = half_bbox(X.size(), lam)\n",
    "\n",
    "# 기존 이미지들의 패치부분을 rand_index를 통해 셔플된 이미지들의 패치로 채움\n",
    "X[:,:,bbx1:bbx2, bby1:bby2] = X[rand_index,:,bbx1:bbx2, bby1:bby2]\n",
    "\n",
    "# 다음 iter에 새로운 lambda를 위해 조정\n",
    "lam = 1 - ((bbx2 - bbx1) * (bby2 - bby1) / (X.size()[-1] * X.size()[-2]))"
   ]
  },
  {
   "cell_type": "markdown",
   "metadata": {},
   "source": [
    "### Cutmix 결과를 시각화하는 함수"
   ]
  },
  {
   "cell_type": "code",
   "execution_count": null,
   "metadata": {},
   "outputs": [],
   "source": [
    "# cutmix 결과 이미지\n",
    "\n",
    "def cutmix_plot(train_loader):\n",
    "    fig , axes = plt.subplots(1,3)\n",
    "    fig.set_size_inches(15,12)\n",
    "    \n",
    "    for i in range(3):\n",
    "        for inputs, targets in train_loader:\n",
    "            inputs = inputs\n",
    "            targets = targets\n",
    "            break\n",
    "\n",
    "        lam = np.random.beta(1.0, 1.0) \n",
    "        rand_index = torch.randperm(inputs.size()[0])\n",
    "        \n",
    "        # bbx1, bby1, bbx2, bby2 = rand_bbox(inputs.size(), lam)\n",
    "        bbx1, bby1, bbx2, bby2 = half_bbox(X.size(), lam)\n",
    "\n",
    "        inputs[:, :, bbx1:bbx2, bby1:bby2] = inputs[rand_index, :, bbx1:bbx2, bby1:bby2]\n",
    "        lam = 1 - ((bbx2 - bbx1) * (bby2 - bby1) / (inputs.size()[-1] * inputs.size()[-2]))\n",
    "        \n",
    "        axes[i].imshow(inputs[1].permute(1, 2, 0).cpu())\n",
    "        axes[i].set_title(f'λ : {np.round(lam,3)}')\n",
    "        axes[i].axis('off')\n",
    "    return\n",
    "\n",
    "\n",
    "cutmix_plot(cutmix_dataloader)"
   ]
  },
  {
   "cell_type": "markdown",
   "metadata": {},
   "source": [
    "### Cutmix를 사용할 때의 Loss function 입니다.  "
   ]
  },
  {
   "cell_type": "code",
   "execution_count": null,
   "metadata": {},
   "outputs": [],
   "source": [
    "# cutmix_criterion : 2개의 정답에 대해 각각의 loss값을 구하여 최종 loss를 반환하는 함\n",
    "def cutmix_criterion(criterion, pred, y_a, y_b, lam):\n",
    "    return lam * criterion(pred, y_a) + (1 - lam) * criterion(pred, y_b)"
   ]
  }
 ],
 "metadata": {
  "language_info": {
   "name": "python"
  },
  "orig_nbformat": 4
 },
 "nbformat": 4,
 "nbformat_minor": 2
}
