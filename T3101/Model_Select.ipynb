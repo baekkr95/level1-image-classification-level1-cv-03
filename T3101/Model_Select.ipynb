{
 "cells": [
  {
   "cell_type": "markdown",
   "metadata": {},
   "source": [
    "## BackBone 모델 리스트\n",
    "1. Resnet\n",
    "2. EfficientNet\n",
    "3. ViT\n",
    "\n",
    "  \n",
    "  \n",
    "> Pretrained Model 사용 방법\n",
    "> 1. torchvision.models 의 모델 가져오기\n",
    "> 2. efficientnet_pytorch 처럼 따로 구현된 패키지 install\n",
    "> 3. timm 라이브러리 사용 : \n",
    "    https://fastai.github.io/timmdocs/\n",
    "> 4. torch.hub 라이브러리 사용"
   ]
  },
  {
   "cell_type": "markdown",
   "metadata": {},
   "source": [
    "```python\n",
    "model_names = timm.list_models(pretrained=True)\n",
    "print(model_names)\n",
    "```\n",
    "위 명령어를 통해 timm 라이브러리의 모델들을 전부 확인할 수 있습니다."
   ]
  },
  {
   "cell_type": "markdown",
   "metadata": {},
   "source": [
    "#### Resnet"
   ]
  },
  {
   "cell_type": "code",
   "execution_count": null,
   "metadata": {},
   "outputs": [],
   "source": [
    "# Resnet\n",
    "resnet18 = torchvision.models.resnet18(pretrained=True)\n",
    "resnet18.fc = nn.Linear(in_features=512, out_features=18, bias=True)\n",
    "resnet18 = resnet18.to(device)\n",
    "\n",
    "\n",
    "# torch.hub 로 모델 가져오기\n",
    "import torch\n",
    "from torch import hub\n",
    "\n",
    "resnet18 = hub.load('pytorch/vision:master, resnet18', pretrained=True)"
   ]
  },
  {
   "cell_type": "markdown",
   "metadata": {},
   "source": [
    "#### EfficientNet"
   ]
  },
  {
   "cell_type": "code",
   "execution_count": null,
   "metadata": {},
   "outputs": [],
   "source": [
    "# EfficientNet\n",
    "from efficientnet_pytorch import EfficientNet\n",
    "model = EfficientNet.from_pretrained('efficientnet-b1')"
   ]
  },
  {
   "cell_type": "markdown",
   "metadata": {},
   "source": [
    "#### ViT "
   ]
  },
  {
   "cell_type": "code",
   "execution_count": null,
   "metadata": {},
   "outputs": [],
   "source": [
    "# 1. timm 라이브러리 사용 \n",
    "import timm\n",
    "from timm.data import resolve_data_config\n",
    "from timm.data.transforms_factory import create_transform\n",
    "model = timm.create_model('vit_base_patch16_224', pretrained=True)\n",
    "\n",
    "\n",
    "# 2. ViT 설치 \n",
    "from pytorch_pretrained_vit import ViT\n",
    "model = ViT('B_16_imagenet1k', pretrained=True)"
   ]
  },
  {
   "cell_type": "code",
   "execution_count": null,
   "metadata": {},
   "outputs": [],
   "source": []
  }
 ],
 "metadata": {
  "language_info": {
   "name": "python"
  },
  "orig_nbformat": 4
 },
 "nbformat": 4,
 "nbformat_minor": 2
}
