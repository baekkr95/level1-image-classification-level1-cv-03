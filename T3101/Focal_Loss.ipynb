{
 "cells": [
  {
   "cell_type": "markdown",
   "metadata": {},
   "source": [
    "## Focal Loss 구현 코드들\n",
    "\n",
    "- 첫번째 셀의 코드가 부캠 base code의 focal loss 이고,\n",
    "- 두번째 셀의 코드가 stackoverflow에서 가져온 코드였던 것 같습니다.\n",
    "- 차이점은, 두번째 코드에는 alpha 값을 추가했다는 점과 criterion이 다른 것 같습니다."
   ]
  },
  {
   "cell_type": "code",
   "execution_count": null,
   "metadata": {},
   "outputs": [],
   "source": [
    "import torch\n",
    "import torch.nn as nn\n",
    "import torch.nn.functional as F\n",
    "\n",
    "class FocalLoss(nn.Module):\n",
    "    \n",
    "    def __init__(self, weight=None, \n",
    "                 gamma=2., reduction='none'):\n",
    "        nn.Module.__init__(self)\n",
    "        self.weight = weight\n",
    "        self.gamma = gamma\n",
    "        self.reduction = reduction\n",
    "        \n",
    "    def forward(self, input_tensor, target_tensor):\n",
    "        log_prob = F.log_softmax(input_tensor, dim=-1)\n",
    "        prob = torch.exp(log_prob)\n",
    "        return F.nll_loss(\n",
    "            ((1 - prob) ** self.gamma) * log_prob, \n",
    "            target_tensor, \n",
    "            weight=self.weight,\n",
    "            reduction = self.reduction\n",
    "        )"
   ]
  },
  {
   "cell_type": "code",
   "execution_count": null,
   "metadata": {},
   "outputs": [],
   "source": [
    "class FocalLoss(nn.Module):\n",
    "    def __init__(self, gamma=0, alpha=None, size_average=True, device='cpu'):\n",
    "        super(FocalLoss, self).__init__()\n",
    "        \"\"\"\n",
    "        gamma(int) : focusing parameter.\n",
    "        alpha(list) : alpha-balanced term.\n",
    "        size_average(bool) : whether to apply reduction to the output.\n",
    "        \"\"\"\n",
    "        self.gamma = gamma\n",
    "        self.alpha = alpha\n",
    "        self.size_average = size_average\n",
    "        self.device = device\n",
    "\n",
    "    def forward(self, input, target):\n",
    "        # input : N * C (btach_size, num_class)\n",
    "        # target : N (batch_size)\n",
    "\n",
    "        CE = F.cross_entropy(input, target, reduction='none')  # -log(pt)\n",
    "        pt = torch.exp(-CE)  # pt\n",
    "        loss = (1 - pt) ** self.gamma * CE  # -(1-pt)^rlog(pt)\n",
    "\n",
    "        if self.alpha is not None:\n",
    "            alpha = torch.tensor(self.alpha, dtype=torch.float).to(self.device)\n",
    "            # in case that a minority class is not selected when mini-batch sampling\n",
    "            if len(self.alpha) != len(torch.unique(target)):\n",
    "                temp = torch.zeros(len(self.alpha)).to(self.device)\n",
    "                temp[torch.unique(target)] = alpha.index_select(0, torch.unique(target))\n",
    "                alpha_t = temp.gather(0, target)\n",
    "                loss = alpha_t * loss\n",
    "            else:\n",
    "                alpha_t = alpha.gather(0, target)\n",
    "                loss = alpha_t * loss\n",
    "\n",
    "        if self.size_average:\n",
    "            loss = torch.mean(loss)\n",
    "\n",
    "        return loss"
   ]
  }
 ],
 "metadata": {
  "language_info": {
   "name": "python"
  },
  "orig_nbformat": 4
 },
 "nbformat": 4,
 "nbformat_minor": 2
}
