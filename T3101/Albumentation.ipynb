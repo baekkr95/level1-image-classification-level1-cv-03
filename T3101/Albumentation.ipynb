{
 "cells": [
  {
   "cell_type": "markdown",
   "metadata": {},
   "source": [
    "### Albumentations\n",
    "- trochvision의 transform 보다 다양한 함수와 빠른 속도를 갖고 있습니다.\n",
    "- 기본적으로 opencv와 함께 쓰이는 것 같습니다."
   ]
  },
  {
   "cell_type": "code",
   "execution_count": null,
   "metadata": {},
   "outputs": [],
   "source": [
    "import cv2\n",
    "import albumentations as A\n",
    "from albumentations.pytorch import transforms"
   ]
  },
  {
   "cell_type": "markdown",
   "metadata": {},
   "source": [
    "- 아래 코드는, albumentation의 대표적인 사용방법 입니다.\n",
    "- `p` 값은 해당 함수를 적용할 확률 입니다.\n",
    "- `OneOf` 함수는 해당 함수 안에 들어가 있는 여러 transform 함수들 중 하나를 선택하게 합니다. 물론 `OneOf`도 마찬가지로 `p`를 설정해서 확률을 설정할 수 있습니다."
   ]
  },
  {
   "cell_type": "code",
   "execution_count": null,
   "metadata": {},
   "outputs": [],
   "source": [
    "# albumentation \n",
    "album_transform = A.Compose([\n",
    "    A.Resize(350, 350),\n",
    "    A.HorizontalFlip(p=0.7),\n",
    "    A.HueSaturationValue(p=0.7),\n",
    "    A.RandomBrightnessContrast(p=0.5),\n",
    "    A.RGBShift(r_shift_limit=15, g_shift_limit=15, b_shift_limit=15, p=0.5),\n",
    "    A.OneOf([\n",
    "        A.MotionBlur(p=0.7),\n",
    "        A.OpticalDistortion(p=0.7),\n",
    "        A.GaussNoise(p=0.7),\n",
    "    ], p=1),\n",
    "    A.Normalize(mean=0.5, std=0.5, max_pixel_value=1.0),\n",
    "    transforms.ToTensorV2()\n",
    "])"
   ]
  },
  {
   "cell_type": "markdown",
   "metadata": {},
   "source": [
    "albumentation을 쓸 때는 opencv를 쓰게 되면서, DataSet 모듈의 __getitem__이 살짝 바뀝니다."
   ]
  },
  {
   "cell_type": "code",
   "execution_count": null,
   "metadata": {},
   "outputs": [],
   "source": [
    " # albumentation 사용했을 경우\n",
    "def __getitem__(self, idx):\n",
    "    label = self.image_label.iloc[idx]\n",
    "    # Read an image with OpenCV\n",
    "    image = cv2.imread(self.image_data.iloc[idx])\n",
    "    \n",
    "    # By default OpenCV uses BGR color space for color images,\n",
    "    # so we need to convert the image to RGB color space.\n",
    "    image = cv2.cvtColor(image, cv2.COLOR_BGR2RGB)\n",
    "\n",
    "\n",
    "    # albumentation을 적용하면서 이미지가 바뀌는 부분\n",
    "    if self.transform:\n",
    "        augmented = self.transform(image=image) \n",
    "        image = augmented['image']\n",
    "\n",
    "    return image, torch.tensor(label)"
   ]
  }
 ],
 "metadata": {
  "language_info": {
   "name": "python"
  },
  "orig_nbformat": 4
 },
 "nbformat": 4,
 "nbformat_minor": 2
}
