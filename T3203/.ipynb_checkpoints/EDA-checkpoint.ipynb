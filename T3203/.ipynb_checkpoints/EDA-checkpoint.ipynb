{
 "cells": [
  {
   "cell_type": "markdown",
   "id": "168fe902",
   "metadata": {},
   "source": [
    "## 1. train path의 정보가 다른 컬럼과 같은지 체크"
   ]
  },
  {
   "cell_type": "code",
   "execution_count": 1,
   "id": "250c2782",
   "metadata": {},
   "outputs": [],
   "source": [
    "import pandas as pd\n",
    "\n",
    "train = pd.read_csv('/opt/ml/input/data/train/train.csv')"
   ]
  },
  {
   "cell_type": "code",
   "execution_count": 2,
   "id": "4ae19956",
   "metadata": {},
   "outputs": [
    {
     "data": {
      "text/html": [
       "<div>\n",
       "<style scoped>\n",
       "    .dataframe tbody tr th:only-of-type {\n",
       "        vertical-align: middle;\n",
       "    }\n",
       "\n",
       "    .dataframe tbody tr th {\n",
       "        vertical-align: top;\n",
       "    }\n",
       "\n",
       "    .dataframe thead th {\n",
       "        text-align: right;\n",
       "    }\n",
       "</style>\n",
       "<table border=\"1\" class=\"dataframe\">\n",
       "  <thead>\n",
       "    <tr style=\"text-align: right;\">\n",
       "      <th></th>\n",
       "      <th>id</th>\n",
       "      <th>gender</th>\n",
       "      <th>race</th>\n",
       "      <th>age</th>\n",
       "      <th>path</th>\n",
       "    </tr>\n",
       "  </thead>\n",
       "  <tbody>\n",
       "    <tr>\n",
       "      <th>302</th>\n",
       "      <td>000724</td>\n",
       "      <td>female</td>\n",
       "      <td>Asian</td>\n",
       "      <td>57</td>\n",
       "      <td>000724_female_Asian_57</td>\n",
       "    </tr>\n",
       "    <tr>\n",
       "      <th>2659</th>\n",
       "      <td>006732</td>\n",
       "      <td>male</td>\n",
       "      <td>Asian</td>\n",
       "      <td>19</td>\n",
       "      <td>006732_male_Asian_19</td>\n",
       "    </tr>\n",
       "    <tr>\n",
       "      <th>321</th>\n",
       "      <td>000746</td>\n",
       "      <td>female</td>\n",
       "      <td>Asian</td>\n",
       "      <td>53</td>\n",
       "      <td>000746_female_Asian_53</td>\n",
       "    </tr>\n",
       "    <tr>\n",
       "      <th>1115</th>\n",
       "      <td>003054</td>\n",
       "      <td>female</td>\n",
       "      <td>Asian</td>\n",
       "      <td>19</td>\n",
       "      <td>003054_female_Asian_19</td>\n",
       "    </tr>\n",
       "    <tr>\n",
       "      <th>1489</th>\n",
       "      <td>003562</td>\n",
       "      <td>female</td>\n",
       "      <td>Asian</td>\n",
       "      <td>54</td>\n",
       "      <td>003562_female_Asian_54</td>\n",
       "    </tr>\n",
       "  </tbody>\n",
       "</table>\n",
       "</div>"
      ],
      "text/plain": [
       "          id  gender   race  age                    path\n",
       "302   000724  female  Asian   57  000724_female_Asian_57\n",
       "2659  006732    male  Asian   19    006732_male_Asian_19\n",
       "321   000746  female  Asian   53  000746_female_Asian_53\n",
       "1115  003054  female  Asian   19  003054_female_Asian_19\n",
       "1489  003562  female  Asian   54  003562_female_Asian_54"
      ]
     },
     "execution_count": 2,
     "metadata": {},
     "output_type": "execute_result"
    }
   ],
   "source": [
    "train.sample(5)"
   ]
  },
  {
   "cell_type": "code",
   "execution_count": 4,
   "id": "a40ce761",
   "metadata": {},
   "outputs": [
    {
     "data": {
      "text/html": [
       "<div>\n",
       "<style scoped>\n",
       "    .dataframe tbody tr th:only-of-type {\n",
       "        vertical-align: middle;\n",
       "    }\n",
       "\n",
       "    .dataframe tbody tr th {\n",
       "        vertical-align: top;\n",
       "    }\n",
       "\n",
       "    .dataframe thead th {\n",
       "        text-align: right;\n",
       "    }\n",
       "</style>\n",
       "<table border=\"1\" class=\"dataframe\">\n",
       "  <thead>\n",
       "    <tr style=\"text-align: right;\">\n",
       "      <th></th>\n",
       "      <th>id</th>\n",
       "      <th>gender</th>\n",
       "      <th>race</th>\n",
       "      <th>age</th>\n",
       "      <th>path</th>\n",
       "    </tr>\n",
       "  </thead>\n",
       "  <tbody>\n",
       "    <tr>\n",
       "      <th>count</th>\n",
       "      <td>2700</td>\n",
       "      <td>2700</td>\n",
       "      <td>2700</td>\n",
       "      <td>2700.000000</td>\n",
       "      <td>2700</td>\n",
       "    </tr>\n",
       "    <tr>\n",
       "      <th>unique</th>\n",
       "      <td>2699</td>\n",
       "      <td>2</td>\n",
       "      <td>1</td>\n",
       "      <td>NaN</td>\n",
       "      <td>2700</td>\n",
       "    </tr>\n",
       "    <tr>\n",
       "      <th>top</th>\n",
       "      <td>003397</td>\n",
       "      <td>female</td>\n",
       "      <td>Asian</td>\n",
       "      <td>NaN</td>\n",
       "      <td>003853_female_Asian_57</td>\n",
       "    </tr>\n",
       "    <tr>\n",
       "      <th>freq</th>\n",
       "      <td>2</td>\n",
       "      <td>1658</td>\n",
       "      <td>2700</td>\n",
       "      <td>NaN</td>\n",
       "      <td>1</td>\n",
       "    </tr>\n",
       "    <tr>\n",
       "      <th>mean</th>\n",
       "      <td>NaN</td>\n",
       "      <td>NaN</td>\n",
       "      <td>NaN</td>\n",
       "      <td>37.708148</td>\n",
       "      <td>NaN</td>\n",
       "    </tr>\n",
       "    <tr>\n",
       "      <th>std</th>\n",
       "      <td>NaN</td>\n",
       "      <td>NaN</td>\n",
       "      <td>NaN</td>\n",
       "      <td>16.985904</td>\n",
       "      <td>NaN</td>\n",
       "    </tr>\n",
       "    <tr>\n",
       "      <th>min</th>\n",
       "      <td>NaN</td>\n",
       "      <td>NaN</td>\n",
       "      <td>NaN</td>\n",
       "      <td>18.000000</td>\n",
       "      <td>NaN</td>\n",
       "    </tr>\n",
       "    <tr>\n",
       "      <th>25%</th>\n",
       "      <td>NaN</td>\n",
       "      <td>NaN</td>\n",
       "      <td>NaN</td>\n",
       "      <td>20.000000</td>\n",
       "      <td>NaN</td>\n",
       "    </tr>\n",
       "    <tr>\n",
       "      <th>50%</th>\n",
       "      <td>NaN</td>\n",
       "      <td>NaN</td>\n",
       "      <td>NaN</td>\n",
       "      <td>36.000000</td>\n",
       "      <td>NaN</td>\n",
       "    </tr>\n",
       "    <tr>\n",
       "      <th>75%</th>\n",
       "      <td>NaN</td>\n",
       "      <td>NaN</td>\n",
       "      <td>NaN</td>\n",
       "      <td>55.000000</td>\n",
       "      <td>NaN</td>\n",
       "    </tr>\n",
       "    <tr>\n",
       "      <th>max</th>\n",
       "      <td>NaN</td>\n",
       "      <td>NaN</td>\n",
       "      <td>NaN</td>\n",
       "      <td>60.000000</td>\n",
       "      <td>NaN</td>\n",
       "    </tr>\n",
       "  </tbody>\n",
       "</table>\n",
       "</div>"
      ],
      "text/plain": [
       "            id  gender   race          age                    path\n",
       "count     2700    2700   2700  2700.000000                    2700\n",
       "unique    2699       2      1          NaN                    2700\n",
       "top     003397  female  Asian          NaN  003853_female_Asian_57\n",
       "freq         2    1658   2700          NaN                       1\n",
       "mean       NaN     NaN    NaN    37.708148                     NaN\n",
       "std        NaN     NaN    NaN    16.985904                     NaN\n",
       "min        NaN     NaN    NaN    18.000000                     NaN\n",
       "25%        NaN     NaN    NaN    20.000000                     NaN\n",
       "50%        NaN     NaN    NaN    36.000000                     NaN\n",
       "75%        NaN     NaN    NaN    55.000000                     NaN\n",
       "max        NaN     NaN    NaN    60.000000                     NaN"
      ]
     },
     "execution_count": 4,
     "metadata": {},
     "output_type": "execute_result"
    }
   ],
   "source": [
    "train.describe(include='all')"
   ]
  },
  {
   "cell_type": "code",
   "execution_count": 5,
   "id": "dbe1646d",
   "metadata": {},
   "outputs": [],
   "source": [
    "path_list = []\n",
    "for i in list(train['path']):\n",
    "    index,gender,race,age = i.split(\"_\")\n",
    "    path_list.append([index,gender,race,int(age)])"
   ]
  },
  {
   "cell_type": "code",
   "execution_count": 6,
   "id": "125e7f43",
   "metadata": {},
   "outputs": [],
   "source": [
    "path = pd.DataFrame(path_list)\n",
    "path.columns = ['index','gender','race','age']"
   ]
  },
  {
   "cell_type": "code",
   "execution_count": 7,
   "id": "4789a62b",
   "metadata": {},
   "outputs": [
    {
     "data": {
      "text/plain": [
       "Index(['id', 'gender', 'race', 'age', 'path'], dtype='object')"
      ]
     },
     "execution_count": 7,
     "metadata": {},
     "output_type": "execute_result"
    }
   ],
   "source": [
    "train.columns"
   ]
  },
  {
   "cell_type": "code",
   "execution_count": 8,
   "id": "f10d6599",
   "metadata": {},
   "outputs": [
    {
     "data": {
      "text/plain": [
       "Index(['index', 'gender', 'race', 'age'], dtype='object')"
      ]
     },
     "execution_count": 8,
     "metadata": {},
     "output_type": "execute_result"
    }
   ],
   "source": [
    "path.columns"
   ]
  },
  {
   "cell_type": "code",
   "execution_count": 9,
   "id": "c567f579",
   "metadata": {
    "scrolled": true
   },
   "outputs": [
    {
     "name": "stdout",
     "output_type": "stream",
     "text": [
      "0\n",
      "0\n",
      "0\n"
     ]
    }
   ],
   "source": [
    "print(sum(path['gender'] != train['gender']))\n",
    "print(sum(path['race'] != train['race']))\n",
    "print(sum(path['age'] != train['age']))"
   ]
  },
  {
   "cell_type": "markdown",
   "id": "c878f705",
   "metadata": {},
   "source": [
    "### 같음\n",
    "---"
   ]
  },
  {
   "cell_type": "markdown",
   "id": "8f47f8d1",
   "metadata": {},
   "source": [
    "## 2. 성별, 연령별 barplot, histogram"
   ]
  },
  {
   "cell_type": "code",
   "execution_count": 13,
   "id": "3b597980",
   "metadata": {},
   "outputs": [],
   "source": [
    "import matplotlib as mpl\n",
    "import matplotlib.pyplot as plt"
   ]
  },
  {
   "cell_type": "code",
   "execution_count": 14,
   "id": "a5d0f44b",
   "metadata": {
    "scrolled": false
   },
   "outputs": [
    {
     "data": {
      "text/html": [
       "<div>\n",
       "<style scoped>\n",
       "    .dataframe tbody tr th:only-of-type {\n",
       "        vertical-align: middle;\n",
       "    }\n",
       "\n",
       "    .dataframe tbody tr th {\n",
       "        vertical-align: top;\n",
       "    }\n",
       "\n",
       "    .dataframe thead th {\n",
       "        text-align: right;\n",
       "    }\n",
       "</style>\n",
       "<table border=\"1\" class=\"dataframe\">\n",
       "  <thead>\n",
       "    <tr style=\"text-align: right;\">\n",
       "      <th></th>\n",
       "      <th>id</th>\n",
       "      <th>race</th>\n",
       "      <th>age</th>\n",
       "      <th>path</th>\n",
       "    </tr>\n",
       "    <tr>\n",
       "      <th>gender</th>\n",
       "      <th></th>\n",
       "      <th></th>\n",
       "      <th></th>\n",
       "      <th></th>\n",
       "    </tr>\n",
       "  </thead>\n",
       "  <tbody>\n",
       "    <tr>\n",
       "      <th>female</th>\n",
       "      <td>1658</td>\n",
       "      <td>1658</td>\n",
       "      <td>1658</td>\n",
       "      <td>1658</td>\n",
       "    </tr>\n",
       "    <tr>\n",
       "      <th>male</th>\n",
       "      <td>1042</td>\n",
       "      <td>1042</td>\n",
       "      <td>1042</td>\n",
       "      <td>1042</td>\n",
       "    </tr>\n",
       "  </tbody>\n",
       "</table>\n",
       "</div>"
      ],
      "text/plain": [
       "          id  race   age  path\n",
       "gender                        \n",
       "female  1658  1658  1658  1658\n",
       "male    1042  1042  1042  1042"
      ]
     },
     "execution_count": 14,
     "metadata": {},
     "output_type": "execute_result"
    }
   ],
   "source": [
    "group = train.groupby('gender').count()\n",
    "group"
   ]
  },
  {
   "cell_type": "code",
   "execution_count": 15,
   "id": "0bc5cf9e",
   "metadata": {
    "scrolled": false
   },
   "outputs": [
    {
     "data": {
      "image/png": "[encoded data removed]",
      "text/plain": [
       "<Figure size 360x360 with 1 Axes>"
      ]
     },
     "metadata": {
      "needs_background": "light"
     },
     "output_type": "display_data"
    }
   ],
   "source": [
    "fig, axes = plt.subplots(1,1,figsize=(5,5))\n",
    "color=['tomato','royalblue']\n",
    "axes.bar(group.index,group['age'],color=color)\n",
    "axes.set_title(\"barplot by gender\")\n",
    "plt.show()"
   ]
  },
  {
   "cell_type": "code",
   "execution_count": 16,
   "id": "c79c1dc4",
   "metadata": {
    "scrolled": true
   },
   "outputs": [
    {
     "data": {
      "image/png": "[encoded data removed]",
      "text/plain": [
       "<Figure size 720x360 with 2 Axes>"
      ]
     },
     "metadata": {
      "needs_background": "light"
     },
     "output_type": "display_data"
    }
   ],
   "source": [
    "fig, axes = plt.subplots(1,2,figsize=(10,5))\n",
    "color=['tomato','royalblue']\n",
    "axes[1].hist(train[train['gender'] == 'male']['age'], color=color[1])\n",
    "axes[0].hist(train[train['gender'] == 'female']['age'], color=color[0])\n",
    "for ax in axes:\n",
    "    ax.set_ylim(0, 600)\n",
    "axes[0].set_title('female')\n",
    "axes[1].set_title('male')\n",
    "plt.show()"
   ]
  },
  {
   "cell_type": "markdown",
   "id": "bb3b89de",
   "metadata": {},
   "source": [
    "### 여성이 남성보다 약 0.5배 많다.\n",
    "### 두 성별의 분포는 비슷하다.\n",
    "### 30대에 가까울수록 데이터가 적은 경향이 있다."
   ]
  }
 ],
 "metadata": {
  "kernelspec": {
   "display_name": "Python 3 (ipykernel)",
   "language": "python",
   "name": "python3"
  },
  "language_info": {
   "codemirror_mode": {
    "name": "ipython",
    "version": 3
   },
   "file_extension": ".py",
   "mimetype": "text/x-python",
   "name": "python",
   "nbconvert_exporter": "python",
   "pygments_lexer": "ipython3",
   "version": "3.8.5"
  }
 },
 "nbformat": 4,
 "nbformat_minor": 5
}
